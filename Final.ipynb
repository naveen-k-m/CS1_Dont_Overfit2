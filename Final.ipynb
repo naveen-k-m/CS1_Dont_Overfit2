{
 "cells": [
  {
   "cell_type": "markdown",
   "id": "e579d524",
   "metadata": {},
   "source": [
    "### Importing Libraries"
   ]
  },
  {
   "cell_type": "code",
   "execution_count": 1,
   "id": "bf156e6a",
   "metadata": {},
   "outputs": [],
   "source": [
    "import warnings\n",
    "warnings.filterwarnings('ignore')\n",
    "import pandas as pd\n",
    "import operator\n",
    "import numpy as np\n",
    "import regex as re\n",
    "import joblib\n",
    "import os\n",
    "import copy\n",
    "from sklearn.metrics import  roc_auc_score\n",
    "\n",
    "from tqdm import tqdm"
   ]
  },
  {
   "cell_type": "markdown",
   "id": "6f2a423e",
   "metadata": {},
   "source": [
    "### Declaring methods"
   ]
  },
  {
   "cell_type": "code",
   "execution_count": 2,
   "id": "53063e9d",
   "metadata": {},
   "outputs": [],
   "source": [
    "def feature_engineering_perm(data, fe_imp):\n",
    "    '''\n",
    "    This method is used to engineer new features(+, -, *, /, cos, cosh, sin , sinh, exp of existing features) from the given\n",
    "    list of feature transformations and the dataset.\n",
    "    \n",
    "    ----------------------\n",
    "    Parameter\n",
    "    data    : The input dataset.\n",
    "    \n",
    "    fe_imp  : A list containing the top important feature combinations of arithmetic and trignometric\n",
    "              operations.\n",
    "              \n",
    "    ----------------------                       \n",
    "    Returns\n",
    "    data_fe : A pandas DataFrame containing dataset with only the given transformed features.\n",
    "    '''\n",
    "        \n",
    "    data_fe = pd.DataFrame()\n",
    "    #defining a dict of operation name and the operations\n",
    "    op_dict = {'+': operator.add, '-': operator.sub, '*': operator.mul, '/': operator.truediv,\n",
    "              'cos': np.cos, 'sin': np.sin, 'cosh': np.cosh, 'sinh': np.sinh, 'exp': np.exp}\n",
    "    \n",
    "    for i in fe_imp:\n",
    "        oper = ''.join(re.findall('[^0-9_]', i)) #extracting the arith or trig operation from the name of col.Eg:12+32 or cos_21\n",
    "        if(not oper):\n",
    "            data_fe[i] = data[i].copy() #if there is no operation involved then the same feature is taken as it is.\n",
    "        else:\n",
    "            op = op_dict[oper]\n",
    "            if('_' in i): #checking if the operation is trig\n",
    "                cols = i.split(oper+'_') #splitting based on the '_' Eg: cos_12 -> cos, 12\n",
    "                data_fe[i] = op(data[cols[1]]) #appying the trig operation\n",
    "            else: \n",
    "                cols = i.split(oper) #splitting based on the operation Eg: 12+13 -> splitting on '+' -> 12,13\n",
    "                data_fe[i] = op(data[cols[0]], data[cols[1]]) #applying the arth operation\n",
    "                \n",
    "        if(data_fe[i].isin([np.inf, -np.inf, np.nan]).any()):\n",
    "            data_fe[i].replace([np.inf, -np.inf], np.nan, inplace=True) #replaces the inf, -inf to nan(coz mean of r.v with inf is nan)\n",
    "            data_fe[i].replace(np.nan, data_fe[i].mean(), inplace=True) # replaces nan with mean val\n",
    "        \n",
    "\n",
    "    return data_fe"
   ]
  },
  {
   "cell_type": "markdown",
   "id": "bb0a4f1f",
   "metadata": {},
   "source": [
    "### Importing Data"
   ]
  },
  {
   "cell_type": "code",
   "execution_count": 3,
   "id": "03ca630b",
   "metadata": {},
   "outputs": [
    {
     "name": "stdout",
     "output_type": "stream",
     "text": [
      "Train Data:(250, 300) (250,)\n",
      "Test Data(Without Target Variable):(19750, 300)\n"
     ]
    }
   ],
   "source": [
    "train = pd.read_csv('dont-overfit-ii/train.csv')\n",
    "x_train = train.drop(['id','target'], axis=1)\n",
    "y_train = train['target']\n",
    "\n",
    "\n",
    "feature_imp = pd.read_csv('dont-overfit-ii/processed_data/feature_importance.csv', index_col = 'Unnamed: 0')\n",
    "test = pd.read_csv('dont-overfit-ii/test.csv').drop(['id'], axis=1)\n",
    "\n",
    "#clf = joblib.load('saved_models/EngFe100_Cor_LogisticRegression_1.sav')\n",
    "clf = joblib.load('BestModel.sav')\n",
    "\n",
    "print('Train Data:', end = '')\n",
    "print(x_train.shape, y_train.shape)\n",
    "print('Test Data(Without Target Variable):', end = '')\n",
    "print(test.shape)"
   ]
  },
  {
   "cell_type": "markdown",
   "id": "beab1c8d",
   "metadata": {},
   "source": [
    "### Final Function 1"
   ]
  },
  {
   "cell_type": "code",
   "execution_count": 4,
   "id": "02b0606f",
   "metadata": {
    "scrolled": true
   },
   "outputs": [
    {
     "data": {
      "text/plain": [
       "array([0.94877582])"
      ]
     },
     "execution_count": 4,
     "metadata": {},
     "output_type": "execute_result"
    }
   ],
   "source": [
    "def final_fun_1(X):\n",
    "    '''\n",
    "    This method will do data preprocessing and predict prob of the class of the datapoints using the best model.\n",
    "    \n",
    "    ----------------------\n",
    "    Parameter\n",
    "     \n",
    "    X : Input data.\n",
    "    \n",
    "    ----------------------              \n",
    "    Returns\n",
    "    pred : Predicted probabilities of the given input.\n",
    "    \n",
    "    '''\n",
    "    #Feature engineering\n",
    "    top_features = feature_imp['abs_correlation'].sort_values(ascending = False)[:100].index\n",
    "    X_fe = feature_engineering_perm(X, top_features)\n",
    "    #print(X_fe)\n",
    "    \n",
    "    #predicting\n",
    "    clf = joblib.load('BestModel.sav')\n",
    "    pred = clf.predict_proba(X_fe)[:,1]\n",
    "    \n",
    "    return pred\n",
    "\n",
    "final_fun_1(pd.DataFrame(x_train.loc[0]).T)"
   ]
  },
  {
   "cell_type": "markdown",
   "id": "3b820dbf",
   "metadata": {},
   "source": [
    "### Final Function 2"
   ]
  },
  {
   "cell_type": "code",
   "execution_count": 5,
   "id": "6a97dc8d",
   "metadata": {},
   "outputs": [
    {
     "data": {
      "text/plain": [
       "0.9845833333333333"
      ]
     },
     "execution_count": 5,
     "metadata": {},
     "output_type": "execute_result"
    }
   ],
   "source": [
    "def final_fun_2(X,Y):\n",
    "    '''\n",
    "    This method will do data preprocessing, predict prob of the class of the datapoints using the best model and finds the AUC ROC score.\n",
    "    \n",
    "    ----------------------\n",
    "    Parameter\n",
    "    \n",
    "    X : Input data.\n",
    "    Y : Target class of the input data.\n",
    "    \n",
    "    ----------------------              \n",
    "    Returns\n",
    "    score : AUCROC Score of the best model.\n",
    "    \n",
    "    '''\n",
    "    #Feature engineering\n",
    "    top_features = feature_imp['abs_correlation'].sort_values(ascending = False)[:100].index\n",
    "    X_fe = feature_engineering_perm(X, top_features)\n",
    "    \n",
    "    #predicting\n",
    "    clf = joblib.load('BestModel.sav')\n",
    "    Y_pred = clf.predict_proba(X_fe)[:,1]\n",
    "    \n",
    "    #preformance metric of predictions\n",
    "    score = roc_auc_score(Y, Y_pred)\n",
    "    \n",
    "    return score\n",
    "\n",
    "final_fun_2(x_train, y_train)"
   ]
  }
 ],
 "metadata": {
  "kernelspec": {
   "display_name": "Python 3",
   "language": "python",
   "name": "python3"
  },
  "language_info": {
   "codemirror_mode": {
    "name": "ipython",
    "version": 3
   },
   "file_extension": ".py",
   "mimetype": "text/x-python",
   "name": "python",
   "nbconvert_exporter": "python",
   "pygments_lexer": "ipython3",
   "version": "3.6.5"
  }
 },
 "nbformat": 4,
 "nbformat_minor": 5
}
