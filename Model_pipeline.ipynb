{
 "cells": [
  {
   "cell_type": "markdown",
   "id": "a96e535a",
   "metadata": {},
   "source": [
    "### Importing Libraries"
   ]
  },
  {
   "cell_type": "code",
   "execution_count": 1,
   "id": "981fbb81",
   "metadata": {},
   "outputs": [],
   "source": [
    "import warnings\n",
    "warnings.filterwarnings('ignore')\n",
    "import pandas as pd\n",
    "import operator\n",
    "import numpy as np\n",
    "import regex as re\n",
    "import joblib\n",
    "import os\n",
    "import copy\n",
    "from tqdm import tqdm\n",
    "from prettytable import PrettyTable\n",
    "\n",
    "from sklearn.model_selection import train_test_split, RandomizedSearchCV, GridSearchCV\n",
    "from sklearn.preprocessing import StandardScaler, MinMaxScaler\n",
    "from sklearn.linear_model import LogisticRegression\n",
    "from sklearn.naive_bayes import GaussianNB\n",
    "from sklearn.tree import DecisionTreeClassifier\n",
    "from sklearn.neighbors import KNeighborsClassifier\n",
    "from sklearn.svm import SVC\n",
    "from sklearn.ensemble import RandomForestClassifier\n",
    "from sklearn.calibration import CalibratedClassifierCV\n",
    "from sklearn.metrics import roc_auc_score\n",
    "from sklearn.decomposition import PCA\n",
    "from imblearn.pipeline import Pipeline\n",
    "from imblearn.over_sampling import SMOTE, ADASYN, BorderlineSMOTE, SVMSMOTE\n",
    "from xgboost import XGBClassifier\n",
    "from mlxtend.classifier import StackingClassifier"
   ]
  },
  {
   "cell_type": "markdown",
   "id": "2ff041aa",
   "metadata": {},
   "source": [
    "### Defining methods"
   ]
  },
  {
   "cell_type": "code",
   "execution_count": 2,
   "id": "d65b657f",
   "metadata": {},
   "outputs": [],
   "source": [
    "#ReferenceL https://github.com/mdmub0587/Dont-Overfit-II/blob/master/ML_Models.ipynb\n",
    "def get_classifiers_pipeline(scaler = None, sampler = None ,dimRed = None):\n",
    "    '''\n",
    "    This method returns map with value as pipeline containing the scaler , sampler , dimentionality reduction technique \n",
    "    if provided along with the machine learning models knn, naive bayes, logistic regression, support vector machine, \n",
    "    decision tree, random forest, xgboost and stacking with their corresponding parameter values that are required to tune the model.\n",
    "    \n",
    "    ----------------------\n",
    "    Parameter\n",
    "    scaler  : A Scaler to add to the pipeline.\n",
    "                   \n",
    "    sampler : A Sampler to add to the pipeline.\n",
    "    \n",
    "    dimRed  : A dimentionality reduction technique to add to the pipeline.\n",
    "    \n",
    "    ----------------------\n",
    "    Returns\n",
    "    classifiers : A map with key as the model name and value is a tuple of pipeline object containing the \n",
    "                  given sampler, scaler, dimentionality reduction technique and classifiers along with their params.\n",
    "    '''\n",
    "    classifiers = {}\n",
    "    \n",
    "    steps = []\n",
    "    if(sampler):\n",
    "        steps.append(('sampler', sampler)) #oversampling, undersampling\n",
    "    if(scaler):\n",
    "        steps.append(('scaler', scaler)) #minmax sampler, standard scaler\n",
    "    if(dimRed):\n",
    "        steps.append(('dimRed', dimRed))\n",
    "    \n",
    "        \n",
    "    \n",
    "    \n",
    "    #K Nearest Neighbour\n",
    "    params = {\n",
    "        'model__base_estimator__n_neighbors':[2,4,5,7,9,15],\n",
    "        'model__base_estimator__leaf_size':[1,2,5,10],\n",
    "        'model__base_estimator__weights':['uniform', 'distance'],\n",
    "        'model__base_estimator__algorithm':['auto', 'ball_tree','kd_tree','brute'],\n",
    "    }\n",
    "    clf = KNeighborsClassifier()\n",
    "    clf = CalibratedClassifierCV(clf, method='sigmoid', n_jobs = -1)\n",
    "    steps_temp = copy.deepcopy(steps)\n",
    "    steps_temp.append(('model', clf))\n",
    "    classifiers['KNeighborsClassifier'] = (Pipeline(steps=steps_temp), params)\n",
    "    \n",
    "    #Naive Bayes\n",
    "    params = {\n",
    "        'model__base_estimator__var_smoothing':[0.0001,0.005,0.001,0.05,0.01,0.1,10]\n",
    "    }\n",
    "    clf = GaussianNB()\n",
    "    clf = CalibratedClassifierCV(clf, method='sigmoid', n_jobs = -1)\n",
    "    steps_temp = copy.deepcopy(steps)\n",
    "    steps_temp.append(('model', clf))\n",
    "    classifiers['GaussianNB'] = (Pipeline(steps=steps_temp), params)\n",
    "    \n",
    "    #Logistic Regression\n",
    "    params = {\n",
    "        'model__base_estimator__solver' : ['newton-cg', 'lbfgs', 'liblinear', 'sag', 'saga'],\n",
    "        'model__base_estimator__penalty' : ['l2','l1','elasticnet', 'none'],\n",
    "        'model__base_estimator__C' :[0.001,0.01, 0.1, 1, 10, 100],\n",
    "    }\n",
    "    clf = LogisticRegression()\n",
    "    clf = CalibratedClassifierCV(clf, method='sigmoid', n_jobs = -1)\n",
    "    steps_temp = copy.deepcopy(steps)\n",
    "    steps_temp.append(('model', clf))\n",
    "    classifiers['LogisticRegression'] = (Pipeline(steps=steps_temp), params)\n",
    "    \n",
    "    #Support Vector \n",
    "    params = {\n",
    "        'model__base_estimator__kernel': ['linear','poly','rbf'], \n",
    "        'model__base_estimator__gamma': [0.001, 0.01, 0.1, 1,'auto'],\n",
    "        'model__base_estimator__C': [0.001,0.01, 0.1, 1, 10, 100],\n",
    "        'model__base_estimator__class_weight': ['balanced', None],\n",
    "        'model__base_estimator__probability': [True]\n",
    "    }\n",
    "    clf = SVC()\n",
    "    clf = CalibratedClassifierCV(clf, method='sigmoid', n_jobs = -1)\n",
    "    steps_temp = copy.deepcopy(steps)\n",
    "    steps_temp.append(('model', clf))\n",
    "    classifiers['SVC'] = (Pipeline(steps=steps_temp), params)\n",
    "    \n",
    "    #Decision Tree\n",
    "    params = {\n",
    "        'model__base_estimator__max_depth': [3, 5 , 10, None],\n",
    "        'model__base_estimator__criterion': ['gini', 'entropy'],\n",
    "        'model__base_estimator__min_samples_leaf': [1,2,3,4,5],\n",
    "        'model__base_estimator__max_features': ['auto', 'sqrt', 'log2', None],\n",
    "        'model__base_estimator__class_weight':['balanced', None]\n",
    "    }\n",
    "    clf = DecisionTreeClassifier()\n",
    "    clf = CalibratedClassifierCV(clf, method='sigmoid', n_jobs = -1)\n",
    "    steps_temp = copy.deepcopy(steps)\n",
    "    steps_temp.append(('model', clf))\n",
    "    classifiers['DecisionTreeClassifier'] = (Pipeline(steps=steps_temp), params)\n",
    "    \n",
    "    #Random Forest\n",
    "    params = {\n",
    "        'model__base_estimator__n_estimators':[10,20,50,70],\n",
    "        'model__base_estimator__criterion':['gini','entropy'],\n",
    "        'model__base_estimator__min_samples_leaf':[1,2,3,4,5],\n",
    "        'model__base_estimator__max_features':['auto', 'sqrt', 'log2'],\n",
    "        'model__base_estimator__class_weight': ['balanced', 'balanced_subsample', None]\n",
    "    }\n",
    "    clf = RandomForestClassifier()\n",
    "    clf = CalibratedClassifierCV(clf, method='sigmoid', n_jobs = -1)\n",
    "    steps_temp = copy.deepcopy(steps)\n",
    "    steps_temp.append(('model', clf))\n",
    "    classifiers['RandomForestClassifier'] = (Pipeline(steps=steps_temp), params)\n",
    "    \n",
    "    #XGBoost\n",
    "    params = {\n",
    "        'model__base_estimator__learning_rate':[0.01,0.03,0.1,0.15,0.2],\n",
    "        'model__base_estimator__n_estimators':[10,20,50,100],\n",
    "        'model__base_estimator__max_depth':[3,5,10],\n",
    "        'model__base_estimator__colsample_bytree':[0.1,0.3,0.5,1],\n",
    "        'model__base_estimator__subsample':[0.1,0.3,0.5,1]\n",
    "    }\n",
    "    clf = XGBClassifier(eval_metric = 'error', use_label_encoder=False)\n",
    "    clf = CalibratedClassifierCV(clf, method='sigmoid')\n",
    "    steps_temp = copy.deepcopy(steps)\n",
    "    steps_temp.append(('model', clf))\n",
    "    classifiers['XGBClassifier'] = (Pipeline(steps=steps_temp), params)\n",
    "    \n",
    "    #Stacking\n",
    "    params = {\n",
    "        'model__meta_classifier__solver' : ['newton-cg', 'lbfgs', 'liblinear', 'sag', 'saga'],\n",
    "        'model__meta_classifier__penalty' : ['l2','l1','elasticnet', 'none'],\n",
    "        'model__meta_classifier__C' :[0.001,0.01, 0.1]\n",
    "    }\n",
    "    \n",
    "    clf = StackingClassifier(classifiers = [GaussianNB(),\n",
    "                                            SVC(),\n",
    "                                            DecisionTreeClassifier(),\n",
    "                                            RandomForestClassifier(),\n",
    "                                            XGBClassifier(eval_metric = 'error', use_label_encoder=False)],\n",
    "                             meta_classifier=LogisticRegression())\n",
    "    steps_temp = copy.deepcopy(steps)\n",
    "    steps_temp.append(('model', clf))\n",
    "    classifiers['StackingClassifier'] = (Pipeline(steps=steps_temp), params)\n",
    "    \n",
    "    return classifiers"
   ]
  },
  {
   "cell_type": "code",
   "execution_count": 3,
   "id": "2f714992",
   "metadata": {},
   "outputs": [],
   "source": [
    "def feature_engineering_perm(data, fe_imp):\n",
    "    '''\n",
    "    This method is used to engineer new features(+, -, *, /, cos, cosh, sin , sinh, exp of existing features) from the given\n",
    "    list of feature transformations and the dataset.\n",
    "    \n",
    "    ----------------------\n",
    "    Parameter\n",
    "    data    : The input dataset.\n",
    "    \n",
    "    fe_imp  : A pandas series containing the top important feature combinations of arithmetic and trignometric\n",
    "              operations.\n",
    "              \n",
    "    ----------------------                       \n",
    "    Returns\n",
    "    data_fe : A pandas DataFrame containing dataset with only the given transformed features.\n",
    "    '''\n",
    "        \n",
    "    data_fe = pd.DataFrame()\n",
    "    #defining a dict of operation name and the operations\n",
    "    op_dict = {'+': operator.add, '-': operator.sub, '*': operator.mul, '/': operator.truediv,\n",
    "              'cos': np.cos, 'sin': np.sin, 'cosh': np.cosh, 'sinh': np.sinh, 'exp': np.exp}\n",
    "    \n",
    "    for i in fe_imp.index:\n",
    "        oper = ''.join(re.findall('[^0-9_]', i)) #extracting the arith or trig operation from the name of col.Eg:12+32 or cos_21\n",
    "        if(not oper):\n",
    "            data_fe[i] = data[i].copy() #if there is no operation involved then the same feature is taken as it is.\n",
    "        else:\n",
    "            op = op_dict[oper]\n",
    "            if('_' in i): #checking if the operation is trig\n",
    "                cols = i.split(oper+'_') #splitting based on the '_' Eg: cos_12 -> cos, 12\n",
    "                data_fe[i] = op(data[cols[1]]) #appying the trig operation\n",
    "            else: \n",
    "                cols = i.split(oper) #splitting based on the operation Eg: 12+13 -> splitting on '+' -> 12,13\n",
    "                data_fe[i] = op(data[cols[0]], data[cols[1]]) #applying the arth operation\n",
    "                \n",
    "        if(data_fe[i].isin([np.inf, -np.inf, np.nan]).any()):\n",
    "            data_fe[i].replace([np.inf, -np.inf], np.nan, inplace=True) #replaces the inf, -inf to nan(coz mean of r.v with inf is nan)\n",
    "            data_fe[i].replace(np.nan, data_fe[i].mean(), inplace=True) # replaces nan with mean val\n",
    "        \n",
    "\n",
    "    return data_fe"
   ]
  },
  {
   "cell_type": "code",
   "execution_count": 4,
   "id": "2fe4ea05",
   "metadata": {},
   "outputs": [],
   "source": [
    "def print_pretty_table(results, header, index):\n",
    "    '''\n",
    "    This method prints the classifier and their corresponding best Cv score and test score.\n",
    "    ----------------------\n",
    "    Parameter\n",
    "    results : Contains the list of tuples containing information about the classifier.\n",
    "    \n",
    "    header  : The pretty print table header.\n",
    "    \n",
    "    index   : indices of the data in the tuple to be printed.\n",
    "    \n",
    "    ----------------------      \n",
    "    Returns\n",
    "    None\n",
    "    '''\n",
    "        \n",
    "    t = PrettyTable(header)\n",
    "    for i, result in enumerate(results): #loops over all the results list\n",
    "        t.add_row([i+1]+[result[idx] for idx in index]) #fetches only the elements of result tuple at the given index to add to row\n",
    "    print(t)"
   ]
  },
  {
   "cell_type": "code",
   "execution_count": 5,
   "id": "c5fe0374",
   "metadata": {},
   "outputs": [],
   "source": [
    "def print_model_hyperpar(cv_results_):\n",
    "    '''\n",
    "    This method displays cv and train score along with the model parameres for every param combination the GridSearchCV \n",
    "    used.\n",
    "    ----------------------\n",
    "    Parameter \n",
    "    cv_results_ : Contains the results of the GridSearchCV(GridSearchCV.cv_results_)\n",
    "    \n",
    "    ----------------------\n",
    "    Returns\n",
    "    None\n",
    "    '''\n",
    "        \n",
    "    results = {}\n",
    "    for i in cv_results_.keys():\n",
    "        if i.split('_')[0] in ['mean', 'rank', 'param']: #getting only the keys containing the given key word\n",
    "            results[i] = cv_results_[i]\n",
    "    display(pd.DataFrame(results).sort_values(by='mean_test_score',ascending=False).head())"
   ]
  },
  {
   "cell_type": "code",
   "execution_count": 6,
   "id": "10ad8fd9",
   "metadata": {},
   "outputs": [],
   "source": [
    "def save_models(model, category):\n",
    "    '''\n",
    "    This method saves the trained model with a  model name that represents the additional information about the trained \n",
    "    model.\n",
    "    \n",
    "    ----------------------\n",
    "    Parameter\n",
    "    model    : The pipeline containing the model and the preprocessing.\n",
    "    \n",
    "    category : The name of the category the model belongs to.\n",
    "    \n",
    "    ----------------------              \n",
    "    Returns\n",
    "    None\n",
    "    '''\n",
    "        \n",
    "    path = 'saved_models'\n",
    "    if not os.path.isdir(path):\n",
    "        os.mkdir(path)\n",
    "        \n",
    "    for i, (clf_name, display_name, params, clf, score) in enumerate(model):\n",
    "        filename = path+'/'+'_'.join([category, display_name, str(i+1)])+'.sav' #the filename will contain the category, display name and the rank(based on AUC)\n",
    "        joblib.dump(clf, filename) #saving the model\n",
    "    print('Example File Name: ',filename)"
   ]
  },
  {
   "cell_type": "code",
   "execution_count": 7,
   "id": "93bcc277",
   "metadata": {},
   "outputs": [],
   "source": [
    "def get_classifier_score(x_train, y_train, classifiers, display_hyper = False, save_model = True, category = 'default'):\n",
    "    '''\n",
    "    This method trains the classifiers using GridSearchCV on given dataset and save the model and print the Cv and test \n",
    "    score of each model.\n",
    "    \n",
    "    ----------------------\n",
    "    Parameter\n",
    "    x_train       : The dataframe containing the independent variables of the train set.\n",
    "    \n",
    "    y_train       : The dataframe containing the dependent variable(target) of the train set.\n",
    "    \n",
    "    x_test        : The dataframe containing the independent variables of the test set.\n",
    "    \n",
    "    y_test        : The dataframe containing the dependent variable(target) of the test set.\n",
    "    \n",
    "    classifiers   : A map with key as the model name and value is a tuple of pipeline object containing the \n",
    "                    sampler, scaler, dimentionality reduction technique, classifiers and with their params.\n",
    "                    \n",
    "    display_hyper : A flag to enable or disable printing the hyperparameters and their corresponding score for all the models.\n",
    "    \n",
    "    save_model    : A flag to enable or disable saving models.\n",
    "    \n",
    "    category      : The category the model belongs to.\n",
    "    \n",
    "    \n",
    "    ----------------------              \n",
    "    Returns\n",
    "    results: The list containing the best params, best estimator for all the models\n",
    "    '''\n",
    "        \n",
    "    results = []\n",
    "    \n",
    "    for clf_name, (clf, params) in tqdm(classifiers.items()):\n",
    "        search_clf = GridSearchCV(clf, param_grid=params, return_train_score= True,cv = 5,\n",
    "                                        scoring = 'roc_auc', n_jobs=-1)\n",
    "        search_clf.fit(x_train, y_train)\n",
    "        \n",
    "        if(display_hyper):\n",
    "            print(clf_name, end = '\\n')\n",
    "            print_model_hyperpar(search_clf.cv_results_)\n",
    "        \n",
    "        steps_list = np.array(clf.steps)[:, 1:].reshape(-1)\n",
    "        steps_list = [str(i).split('(')[0] for i in steps_list if not (hasattr(i,'base_estimator') or hasattr(i,'classifiers'))]\n",
    "        display_name = '_'.join(steps_list+[clf_name])\n",
    "        \n",
    "        results.append((clf_name, display_name, search_clf.best_params_, search_clf.best_estimator_, search_clf.best_score_))\n",
    "         \n",
    "    results.sort(reverse=True, key=lambda x: x[-1])\n",
    "    \n",
    "    if(save_model):\n",
    "        save_models(results, category)\n",
    "    \n",
    "    header = ['No.','Classifier','CV AUC Score']\n",
    "    index = [0, 4] #index on the results list's tuple eg:[clf_name, search_clf.best_score_]\n",
    "    print_pretty_table(results, header, index)\n",
    "    \n",
    "    \n",
    "    return results"
   ]
  },
  {
   "cell_type": "markdown",
   "id": "f3bc8d93",
   "metadata": {},
   "source": [
    "###  Importing Data"
   ]
  },
  {
   "cell_type": "code",
   "execution_count": 8,
   "id": "d8fe8194",
   "metadata": {},
   "outputs": [
    {
     "name": "stdout",
     "output_type": "stream",
     "text": [
      "Train Data:(250, 300) (250,)\n",
      "Test Data(Without Target Variable):(19750, 300)\n"
     ]
    }
   ],
   "source": [
    "train = pd.read_csv('dont-overfit-ii/train.csv')\n",
    "x_train = train.drop(['id','target'], axis=1)\n",
    "y_train = train['target']\n",
    "\n",
    "\n",
    "feature_imp = pd.read_csv('dont-overfit-ii/processed_data/feature_importance.csv', index_col = 'Unnamed: 0')\n",
    "test = pd.read_csv('dont-overfit-ii/test.csv').drop(['id'], axis=1)\n",
    "\n",
    "print('Train Data:', end = '')\n",
    "print(x_train.shape, y_train.shape)\n",
    "print('Test Data(Without Target Variable):', end = '')\n",
    "print(test.shape)"
   ]
  },
  {
   "cell_type": "markdown",
   "id": "a765c0be",
   "metadata": {},
   "source": [
    "## Training"
   ]
  },
  {
   "cell_type": "markdown",
   "id": "f551622f",
   "metadata": {},
   "source": [
    "### BaseLine Models"
   ]
  },
  {
   "cell_type": "code",
   "execution_count": 9,
   "id": "e4beef48",
   "metadata": {},
   "outputs": [
    {
     "name": "stderr",
     "output_type": "stream",
     "text": [
      "100%|████████████████████████████████████████████████████████████████████████████████████| 8/8 [09:10<00:00, 68.87s/it]\n"
     ]
    },
    {
     "name": "stdout",
     "output_type": "stream",
     "text": [
      "Example File Name:  saved_models/OrgFe_KNeighborsClassifier_8.sav\n",
      "+-----+------------------------+--------------------+\n",
      "| No. |       Classifier       |    CV AUC Score    |\n",
      "+-----+------------------------+--------------------+\n",
      "|  1  |   LogisticRegression   | 0.8309027777777777 |\n",
      "|  2  |     XGBClassifier      | 0.7920138888888889 |\n",
      "|  3  | RandomForestClassifier | 0.7739583333333333 |\n",
      "|  4  |          SVC           | 0.7552083333333333 |\n",
      "|  5  |       GaussianNB       | 0.7430555555555556 |\n",
      "|  6  |   StackingClassifier   | 0.6829861111111111 |\n",
      "|  7  | DecisionTreeClassifier | 0.6690972222222221 |\n",
      "|  8  |  KNeighborsClassifier  |      0.61875       |\n",
      "+-----+------------------------+--------------------+\n"
     ]
    }
   ],
   "source": [
    "#training\n",
    "classifiers = get_classifiers_pipeline() #returns all the classifier pipeline\n",
    "display_hyper = False\n",
    "save_model = True\n",
    "category = 'OrgFe' #Original Features\n",
    "baseline_models = get_classifier_score(x_train, y_train, classifiers, display_hyper, save_model, category)"
   ]
  },
  {
   "cell_type": "markdown",
   "id": "1d60825d",
   "metadata": {},
   "source": [
    "#### Kaggle Score(Public and Private Score)\n",
    "<img src='https://i.imgur.com/kqZ8wq8.png' width=800 height=600 />"
   ]
  },
  {
   "cell_type": "markdown",
   "id": "9e11e2d8",
   "metadata": {},
   "source": [
    "### Top 300 Engineered Feature Models"
   ]
  },
  {
   "cell_type": "code",
   "execution_count": 10,
   "id": "80f713a7",
   "metadata": {},
   "outputs": [
    {
     "data": {
      "text/html": [
       "<div>\n",
       "<style scoped>\n",
       "    .dataframe tbody tr th:only-of-type {\n",
       "        vertical-align: middle;\n",
       "    }\n",
       "\n",
       "    .dataframe tbody tr th {\n",
       "        vertical-align: top;\n",
       "    }\n",
       "\n",
       "    .dataframe thead th {\n",
       "        text-align: right;\n",
       "    }\n",
       "</style>\n",
       "<table border=\"1\" class=\"dataframe\">\n",
       "  <thead>\n",
       "    <tr style=\"text-align: right;\">\n",
       "      <th></th>\n",
       "      <th>correlation</th>\n",
       "      <th>chi2_score</th>\n",
       "      <th>chi2_p_val</th>\n",
       "      <th>abs_correlation</th>\n",
       "      <th>harmonic_mean</th>\n",
       "    </tr>\n",
       "  </thead>\n",
       "  <tbody>\n",
       "    <tr>\n",
       "      <th>0</th>\n",
       "      <td>0.118118</td>\n",
       "      <td>0.288789</td>\n",
       "      <td>0.590998</td>\n",
       "      <td>0.118118</td>\n",
       "      <td>0.061797</td>\n",
       "    </tr>\n",
       "    <tr>\n",
       "      <th>1</th>\n",
       "      <td>-0.062362</td>\n",
       "      <td>0.057894</td>\n",
       "      <td>0.809856</td>\n",
       "      <td>0.062362</td>\n",
       "      <td>0.013383</td>\n",
       "    </tr>\n",
       "    <tr>\n",
       "      <th>2</th>\n",
       "      <td>-0.016348</td>\n",
       "      <td>0.005082</td>\n",
       "      <td>0.943168</td>\n",
       "      <td>0.016348</td>\n",
       "      <td>0.001215</td>\n",
       "    </tr>\n",
       "    <tr>\n",
       "      <th>3</th>\n",
       "      <td>0.015924</td>\n",
       "      <td>0.004963</td>\n",
       "      <td>0.943835</td>\n",
       "      <td>0.015924</td>\n",
       "      <td>0.001186</td>\n",
       "    </tr>\n",
       "    <tr>\n",
       "      <th>4</th>\n",
       "      <td>-0.133754</td>\n",
       "      <td>0.295107</td>\n",
       "      <td>0.586967</td>\n",
       "      <td>0.133754</td>\n",
       "      <td>0.063896</td>\n",
       "    </tr>\n",
       "    <tr>\n",
       "      <th>...</th>\n",
       "      <td>...</td>\n",
       "      <td>...</td>\n",
       "      <td>...</td>\n",
       "      <td>...</td>\n",
       "      <td>...</td>\n",
       "    </tr>\n",
       "    <tr>\n",
       "      <th>exp_295</th>\n",
       "      <td>-0.153373</td>\n",
       "      <td>0.763597</td>\n",
       "      <td>0.382205</td>\n",
       "      <td>0.153373</td>\n",
       "      <td>0.145345</td>\n",
       "    </tr>\n",
       "    <tr>\n",
       "      <th>exp_296</th>\n",
       "      <td>-0.097177</td>\n",
       "      <td>0.302711</td>\n",
       "      <td>0.582188</td>\n",
       "      <td>0.097177</td>\n",
       "      <td>0.062715</td>\n",
       "    </tr>\n",
       "    <tr>\n",
       "      <th>exp_297</th>\n",
       "      <td>0.083976</td>\n",
       "      <td>0.221219</td>\n",
       "      <td>0.638113</td>\n",
       "      <td>0.083976</td>\n",
       "      <td>0.046902</td>\n",
       "    </tr>\n",
       "    <tr>\n",
       "      <th>exp_298</th>\n",
       "      <td>-0.020659</td>\n",
       "      <td>0.015240</td>\n",
       "      <td>0.901749</td>\n",
       "      <td>0.020659</td>\n",
       "      <td>0.003559</td>\n",
       "    </tr>\n",
       "    <tr>\n",
       "      <th>exp_299</th>\n",
       "      <td>-0.009830</td>\n",
       "      <td>0.003400</td>\n",
       "      <td>0.953504</td>\n",
       "      <td>0.009830</td>\n",
       "      <td>0.000811</td>\n",
       "    </tr>\n",
       "  </tbody>\n",
       "</table>\n",
       "<p>270900 rows × 5 columns</p>\n",
       "</div>"
      ],
      "text/plain": [
       "         correlation  chi2_score  chi2_p_val  abs_correlation  harmonic_mean\n",
       "0           0.118118    0.288789    0.590998         0.118118       0.061797\n",
       "1          -0.062362    0.057894    0.809856         0.062362       0.013383\n",
       "2          -0.016348    0.005082    0.943168         0.016348       0.001215\n",
       "3           0.015924    0.004963    0.943835         0.015924       0.001186\n",
       "4          -0.133754    0.295107    0.586967         0.133754       0.063896\n",
       "...              ...         ...         ...              ...            ...\n",
       "exp_295    -0.153373    0.763597    0.382205         0.153373       0.145345\n",
       "exp_296    -0.097177    0.302711    0.582188         0.097177       0.062715\n",
       "exp_297     0.083976    0.221219    0.638113         0.083976       0.046902\n",
       "exp_298    -0.020659    0.015240    0.901749         0.020659       0.003559\n",
       "exp_299    -0.009830    0.003400    0.953504         0.009830       0.000811\n",
       "\n",
       "[270900 rows x 5 columns]"
      ]
     },
     "execution_count": 10,
     "metadata": {},
     "output_type": "execute_result"
    }
   ],
   "source": [
    "top = 300\n",
    "feature_imp"
   ]
  },
  {
   "cell_type": "code",
   "execution_count": 11,
   "id": "730eb511",
   "metadata": {},
   "outputs": [
    {
     "name": "stderr",
     "output_type": "stream",
     "text": [
      "100%|████████████████████████████████████████████████████████████████████████████████████| 8/8 [09:04<00:00, 68.08s/it]\n"
     ]
    },
    {
     "name": "stdout",
     "output_type": "stream",
     "text": [
      "Example File Name:  saved_models/EngFe_Cor_GaussianNB_8.sav\n",
      "+-----+------------------------+--------------------+\n",
      "| No. |       Classifier       |    CV AUC Score    |\n",
      "+-----+------------------------+--------------------+\n",
      "|  1  |     XGBClassifier      | 0.8833333333333332 |\n",
      "|  2  | RandomForestClassifier | 0.867013888888889  |\n",
      "|  3  |   LogisticRegression   | 0.8666666666666668 |\n",
      "|  4  |          SVC           | 0.8614583333333332 |\n",
      "|  5  | DecisionTreeClassifier | 0.8614583333333332 |\n",
      "|  6  |  KNeighborsClassifier  | 0.8553819444444445 |\n",
      "|  7  |   StackingClassifier   |      0.828125      |\n",
      "|  8  |       GaussianNB       | 0.826388888888889  |\n",
      "+-----+------------------------+--------------------+\n"
     ]
    }
   ],
   "source": [
    "#getting the top 300 correlated engineered feature's name and transforming data according to the feature name\n",
    "top_features = feature_imp['abs_correlation'].sort_values(ascending = False)[:top]\n",
    "x_train_fe_1 = feature_engineering_perm(x_train, top_features)\n",
    "\n",
    "classifiers = get_classifiers_pipeline() #returns all the classifier pipeline\n",
    "display_hyper = False\n",
    "save_model = True\n",
    "category = 'EngFe_Cor'\n",
    "baseline_models = get_classifier_score(x_train_fe_1, y_train, classifiers, display_hyper, save_model, category)"
   ]
  },
  {
   "cell_type": "markdown",
   "id": "85833669",
   "metadata": {},
   "source": [
    "#### Kaggle Score(Public and Private Score)\n",
    "<img src='https://i.imgur.com/tGmM3EF.png' width=800 height=600 />"
   ]
  },
  {
   "cell_type": "code",
   "execution_count": 12,
   "id": "7ad8515b",
   "metadata": {},
   "outputs": [
    {
     "name": "stderr",
     "output_type": "stream",
     "text": [
      "100%|████████████████████████████████████████████████████████████████████████████████████| 8/8 [08:32<00:00, 64.09s/it]\n"
     ]
    },
    {
     "name": "stdout",
     "output_type": "stream",
     "text": [
      "Example File Name:  saved_models/EngFe_Chi_GaussianNB_8.sav\n",
      "+-----+------------------------+--------------------+\n",
      "| No. |       Classifier       |    CV AUC Score    |\n",
      "+-----+------------------------+--------------------+\n",
      "|  1  |     XGBClassifier      | 0.8934027777777777 |\n",
      "|  2  | RandomForestClassifier | 0.8701388888888889 |\n",
      "|  3  |          SVC           |      0.865625      |\n",
      "|  4  |   LogisticRegression   | 0.8652777777777778 |\n",
      "|  5  |  KNeighborsClassifier  | 0.8538194444444445 |\n",
      "|  6  | DecisionTreeClassifier |     0.8453125      |\n",
      "|  7  |   StackingClassifier   | 0.8288194444444447 |\n",
      "|  8  |       GaussianNB       | 0.8166666666666667 |\n",
      "+-----+------------------------+--------------------+\n"
     ]
    }
   ],
   "source": [
    "#getting the top 300 based(using chi-square test) engineered feature's name and transforming data according to the feature name\n",
    "top_features = feature_imp['chi2_score'].sort_values(ascending=False)[: top]\n",
    "x_train_fe_2 = feature_engineering_perm(x_train, top_features)\n",
    "\n",
    "classifiers = get_classifiers_pipeline() #returns all the classifier pipeline\n",
    "display_hyper = False\n",
    "save_model = True\n",
    "category = 'EngFe_Chi'\n",
    "baseline_models = get_classifier_score(x_train_fe_2, y_train, classifiers, display_hyper, save_model, category)"
   ]
  },
  {
   "cell_type": "markdown",
   "id": "a4ec0691",
   "metadata": {},
   "source": [
    "#### Kaggle Score(Public and Private Score)\n",
    "<img src='https://i.imgur.com/rVhSc8j.png' width=800 height=600 />"
   ]
  },
  {
   "cell_type": "code",
   "execution_count": 13,
   "id": "1195320a",
   "metadata": {},
   "outputs": [
    {
     "name": "stderr",
     "output_type": "stream",
     "text": [
      "100%|████████████████████████████████████████████████████████████████████████████████████| 8/8 [08:57<00:00, 67.13s/it]\n"
     ]
    },
    {
     "name": "stdout",
     "output_type": "stream",
     "text": [
      "Example File Name:  saved_models/EngFe_Hmean_GaussianNB_8.sav\n",
      "+-----+------------------------+--------------------+\n",
      "| No. |       Classifier       |    CV AUC Score    |\n",
      "+-----+------------------------+--------------------+\n",
      "|  1  |     XGBClassifier      | 0.8909722222222222 |\n",
      "|  2  | RandomForestClassifier | 0.8708333333333333 |\n",
      "|  3  |   LogisticRegression   | 0.8628472222222221 |\n",
      "|  4  |          SVC           | 0.8600694444444444 |\n",
      "|  5  |  KNeighborsClassifier  | 0.8522569444444444 |\n",
      "|  6  | DecisionTreeClassifier | 0.8520833333333334 |\n",
      "|  7  |   StackingClassifier   |      0.81875       |\n",
      "|  8  |       GaussianNB       | 0.8184027777777778 |\n",
      "+-----+------------------------+--------------------+\n"
     ]
    }
   ],
   "source": [
    "#getting the top 300 based(harmonic_mean of chi-sq,cor value) engineered feature's name and transforming data according to the feature name\n",
    "top_features = feature_imp['harmonic_mean'].sort_values(ascending=False)[: top]\n",
    "x_train_fe_3 = feature_engineering_perm(x_train, top_features)\n",
    "\n",
    "classifiers = get_classifiers_pipeline() #returns all the classifier pipeline\n",
    "display_hyper = False\n",
    "save_model = True\n",
    "category = 'EngFe_Hmean'\n",
    "baseline_models = get_classifier_score(x_train_fe_3, y_train, classifiers, display_hyper, save_model, category)"
   ]
  },
  {
   "cell_type": "markdown",
   "id": "a9e3d683",
   "metadata": {},
   "source": [
    "#### Kaggle Score(Public and Private Score)\n",
    "<img src='https://i.imgur.com/eCAiBal.png' width=800 height=600 />"
   ]
  },
  {
   "cell_type": "markdown",
   "id": "53566204",
   "metadata": {},
   "source": [
    "### Top 100 Engineered Feature Models"
   ]
  },
  {
   "cell_type": "code",
   "execution_count": 14,
   "id": "600e6966",
   "metadata": {},
   "outputs": [],
   "source": [
    "top = 100"
   ]
  },
  {
   "cell_type": "code",
   "execution_count": 15,
   "id": "94fe4958",
   "metadata": {},
   "outputs": [
    {
     "name": "stderr",
     "output_type": "stream",
     "text": [
      "100%|████████████████████████████████████████████████████████████████████████████████████| 8/8 [06:33<00:00, 49.22s/it]\n"
     ]
    },
    {
     "name": "stdout",
     "output_type": "stream",
     "text": [
      "Example File Name:  saved_models/EngFe100_Cor_StackingClassifier_8.sav\n",
      "+-----+------------------------+--------------------+\n",
      "| No. |       Classifier       |    CV AUC Score    |\n",
      "+-----+------------------------+--------------------+\n",
      "|  1  |   LogisticRegression   |       0.9125       |\n",
      "|  2  |          SVC           | 0.8895833333333334 |\n",
      "|  3  | RandomForestClassifier | 0.8854166666666667 |\n",
      "|  4  |     XGBClassifier      |      0.884375      |\n",
      "|  5  |  KNeighborsClassifier  | 0.8583333333333334 |\n",
      "|  6  | DecisionTreeClassifier | 0.8560763888888889 |\n",
      "|  7  |       GaussianNB       | 0.8392361111111111 |\n",
      "|  8  |   StackingClassifier   | 0.8371527777777776 |\n",
      "+-----+------------------------+--------------------+\n"
     ]
    }
   ],
   "source": [
    "#getting the top 100 correlated engineered feature's name and transforming data according to the feature name\n",
    "top_features = feature_imp['abs_correlation'].sort_values(ascending = False)[:top]\n",
    "x_train_fe_1 = feature_engineering_perm(x_train, top_features)\n",
    "\n",
    "classifiers = get_classifiers_pipeline() #returns all the classifier pipeline\n",
    "display_hyper = False\n",
    "save_model = True\n",
    "category = 'EngFe100_Cor'\n",
    "baseline_models = get_classifier_score(x_train_fe_1, y_train, classifiers, display_hyper, save_model, category)"
   ]
  },
  {
   "cell_type": "markdown",
   "id": "7992691a",
   "metadata": {},
   "source": [
    "#### Kaggle Score(Public and Private Score)\n",
    "<img src='https://i.imgur.com/JpKiH7m.png' width=800 height=600 />"
   ]
  },
  {
   "cell_type": "code",
   "execution_count": 16,
   "id": "2284ac49",
   "metadata": {},
   "outputs": [
    {
     "name": "stderr",
     "output_type": "stream",
     "text": [
      "100%|████████████████████████████████████████████████████████████████████████████████████| 8/8 [06:03<00:00, 45.42s/it]\n"
     ]
    },
    {
     "name": "stdout",
     "output_type": "stream",
     "text": [
      "Example File Name:  saved_models/EngFe100_Chi_GaussianNB_8.sav\n",
      "+-----+------------------------+--------------------+\n",
      "| No. |       Classifier       |    CV AUC Score    |\n",
      "+-----+------------------------+--------------------+\n",
      "|  1  |   LogisticRegression   | 0.9027777777777777 |\n",
      "|  2  |     XGBClassifier      | 0.8909722222222223 |\n",
      "|  3  |          SVC           | 0.8840277777777776 |\n",
      "|  4  | RandomForestClassifier | 0.8809027777777778 |\n",
      "|  5  |  KNeighborsClassifier  | 0.8647569444444445 |\n",
      "|  6  | DecisionTreeClassifier | 0.8505208333333332 |\n",
      "|  7  |   StackingClassifier   | 0.8428819444444444 |\n",
      "|  8  |       GaussianNB       | 0.8274305555555556 |\n",
      "+-----+------------------------+--------------------+\n"
     ]
    }
   ],
   "source": [
    "#getting the top 100 based(using chi-square test) engineered feature's name and transforming data according to the feature name\n",
    "top_features = feature_imp['chi2_score'].sort_values(ascending=False)[: top]\n",
    "x_train_fe_2 = feature_engineering_perm(x_train, top_features)\n",
    "\n",
    "classifiers = get_classifiers_pipeline() #returns all the classifier pipeline\n",
    "display_hyper = False\n",
    "save_model = True\n",
    "category = 'EngFe100_Chi'\n",
    "baseline_models = get_classifier_score(x_train_fe_2, y_train, classifiers, display_hyper, save_model, category)"
   ]
  },
  {
   "cell_type": "markdown",
   "id": "f45a28e2",
   "metadata": {},
   "source": [
    "#### Kaggle Score(Public and Private Score)\n",
    "<img src='https://i.imgur.com/ukukVdg.png' width=800 height=600 />"
   ]
  },
  {
   "cell_type": "code",
   "execution_count": 17,
   "id": "058c842f",
   "metadata": {},
   "outputs": [
    {
     "name": "stderr",
     "output_type": "stream",
     "text": [
      "100%|████████████████████████████████████████████████████████████████████████████████████| 8/8 [06:19<00:00, 47.41s/it]\n"
     ]
    },
    {
     "name": "stdout",
     "output_type": "stream",
     "text": [
      "Example File Name:  saved_models/EngFe100_Hmean_GaussianNB_8.sav\n",
      "+-----+------------------------+--------------------+\n",
      "| No. |       Classifier       |    CV AUC Score    |\n",
      "+-----+------------------------+--------------------+\n",
      "|  1  |   LogisticRegression   | 0.8993055555555556 |\n",
      "|  2  |     XGBClassifier      |      0.878125      |\n",
      "|  3  | RandomForestClassifier | 0.8652777777777778 |\n",
      "|  4  |          SVC           | 0.8611111111111113 |\n",
      "|  5  |  KNeighborsClassifier  | 0.8520833333333334 |\n",
      "|  6  | DecisionTreeClassifier | 0.8489583333333334 |\n",
      "|  7  |   StackingClassifier   | 0.8329861111111111 |\n",
      "|  8  |       GaussianNB       | 0.8184027777777778 |\n",
      "+-----+------------------------+--------------------+\n"
     ]
    }
   ],
   "source": [
    "#getting the top 100 based(harmonic_mean of chi-sq,cor value) engineered feature's name and transforming data according to the feature name\n",
    "top_features = feature_imp['harmonic_mean'].sort_values(ascending=False)[: top]\n",
    "x_train_fe_3 = feature_engineering_perm(x_train, top_features)\n",
    "\n",
    "classifiers = get_classifiers_pipeline() #returns all the classifier pipeline\n",
    "display_hyper = False\n",
    "save_model = True\n",
    "category = 'EngFe100_Hmean'\n",
    "baseline_models = get_classifier_score(x_train_fe_3, y_train, classifiers, display_hyper, save_model, category)"
   ]
  },
  {
   "cell_type": "markdown",
   "id": "566dac40",
   "metadata": {},
   "source": [
    "#### Kaggle Score(Public and Private Score)\n",
    "<img src='https://i.imgur.com/BYYwk7S.png' width=800 height=600 />"
   ]
  },
  {
   "cell_type": "markdown",
   "id": "7640fbd9",
   "metadata": {},
   "source": [
    "### Top 50 Engineered Feature Models"
   ]
  },
  {
   "cell_type": "code",
   "execution_count": 18,
   "id": "e19df675",
   "metadata": {},
   "outputs": [],
   "source": [
    "top = 50"
   ]
  },
  {
   "cell_type": "code",
   "execution_count": 19,
   "id": "611c345c",
   "metadata": {},
   "outputs": [
    {
     "name": "stderr",
     "output_type": "stream",
     "text": [
      "100%|████████████████████████████████████████████████████████████████████████████████████| 8/8 [06:24<00:00, 48.11s/it]\n"
     ]
    },
    {
     "name": "stdout",
     "output_type": "stream",
     "text": [
      "Example File Name:  saved_models/EngFe50_Cor_StackingClassifier_8.sav\n",
      "+-----+------------------------+--------------------+\n",
      "| No. |       Classifier       |    CV AUC Score    |\n",
      "+-----+------------------------+--------------------+\n",
      "|  1  |   LogisticRegression   | 0.9222222222222222 |\n",
      "|  2  |          SVC           | 0.920138888888889  |\n",
      "|  3  |     XGBClassifier      |       0.875        |\n",
      "|  4  | RandomForestClassifier | 0.8732638888888887 |\n",
      "|  5  | DecisionTreeClassifier | 0.8579861111111111 |\n",
      "|  6  |  KNeighborsClassifier  | 0.8501736111111111 |\n",
      "|  7  |       GaussianNB       | 0.8291666666666666 |\n",
      "|  8  |   StackingClassifier   | 0.8012152777777779 |\n",
      "+-----+------------------------+--------------------+\n"
     ]
    }
   ],
   "source": [
    "#getting the top 50 correlated engineered feature's name and transforming data according to the feature name\n",
    "top_features = feature_imp['abs_correlation'].sort_values(ascending = False)[:top]\n",
    "x_train_fe_1 = feature_engineering_perm(x_train, top_features)\n",
    "\n",
    "classifiers = get_classifiers_pipeline() #returns all the classifier pipeline\n",
    "display_hyper = False\n",
    "save_model = True\n",
    "category = 'EngFe50_Cor'\n",
    "baseline_models = get_classifier_score(x_train_fe_1, y_train, classifiers, display_hyper, save_model, category)"
   ]
  },
  {
   "cell_type": "markdown",
   "id": "403b9aac",
   "metadata": {},
   "source": [
    "#### Kaggle Score(Public and Private Score)\n",
    "<img src='https://i.imgur.com/36Ugml1.png' width=800 height=600 />"
   ]
  },
  {
   "cell_type": "code",
   "execution_count": 20,
   "id": "5c12f54c",
   "metadata": {},
   "outputs": [
    {
     "name": "stderr",
     "output_type": "stream",
     "text": [
      "100%|████████████████████████████████████████████████████████████████████████████████████| 8/8 [06:27<00:00, 48.47s/it]\n"
     ]
    },
    {
     "name": "stdout",
     "output_type": "stream",
     "text": [
      "Example File Name:  saved_models/EngFe50_Chi_KNeighborsClassifier_8.sav\n",
      "+-----+------------------------+--------------------+\n",
      "| No. |       Classifier       |    CV AUC Score    |\n",
      "+-----+------------------------+--------------------+\n",
      "|  1  |   LogisticRegression   | 0.8996527777777779 |\n",
      "|  2  |          SVC           | 0.8947916666666667 |\n",
      "|  3  |     XGBClassifier      | 0.8371527777777776 |\n",
      "|  4  | RandomForestClassifier | 0.8329861111111111 |\n",
      "|  5  | DecisionTreeClassifier | 0.8237847222222223 |\n",
      "|  6  |       GaussianNB       | 0.8079861111111111 |\n",
      "|  7  |   StackingClassifier   | 0.7822916666666666 |\n",
      "|  8  |  KNeighborsClassifier  | 0.7798611111111111 |\n",
      "+-----+------------------------+--------------------+\n"
     ]
    }
   ],
   "source": [
    "#getting the top 50 based(using chi-square test) engineered feature's name and transforming data according to the feature name\n",
    "top_features = feature_imp['chi2_score'].sort_values(ascending=False)[: top]\n",
    "x_train_fe_2 = feature_engineering_perm(x_train, top_features)\n",
    "\n",
    "classifiers = get_classifiers_pipeline() #returns all the classifier pipeline\n",
    "display_hyper = False\n",
    "save_model = True\n",
    "category = 'EngFe50_Chi'\n",
    "baseline_models = get_classifier_score(x_train_fe_2, y_train, classifiers, display_hyper, save_model, category)"
   ]
  },
  {
   "cell_type": "markdown",
   "id": "510aba4d",
   "metadata": {},
   "source": [
    "#### Kaggle Score(Public and Private Score)\n",
    "<img src='https://i.imgur.com/Zj5wTeW.png' width=800 height=600 />"
   ]
  },
  {
   "cell_type": "code",
   "execution_count": 21,
   "id": "a328f419",
   "metadata": {},
   "outputs": [
    {
     "name": "stderr",
     "output_type": "stream",
     "text": [
      "100%|████████████████████████████████████████████████████████████████████████████████████| 8/8 [06:09<00:00, 46.19s/it]\n"
     ]
    },
    {
     "name": "stdout",
     "output_type": "stream",
     "text": [
      "Example File Name:  saved_models/EngFe50_Hmean_StackingClassifier_8.sav\n",
      "+-----+------------------------+--------------------+\n",
      "| No. |       Classifier       |    CV AUC Score    |\n",
      "+-----+------------------------+--------------------+\n",
      "|  1  |   LogisticRegression   |      0.903125      |\n",
      "|  2  |          SVC           | 0.9024305555555554 |\n",
      "|  3  |     XGBClassifier      | 0.8315972222222221 |\n",
      "|  4  | RandomForestClassifier | 0.8305555555555555 |\n",
      "|  5  |       GaussianNB       | 0.8074652777777779 |\n",
      "|  6  | DecisionTreeClassifier | 0.8026041666666666 |\n",
      "|  7  |  KNeighborsClassifier  | 0.7802083333333334 |\n",
      "|  8  |   StackingClassifier   | 0.7744791666666667 |\n",
      "+-----+------------------------+--------------------+\n"
     ]
    }
   ],
   "source": [
    "#getting the top 50 based(harmonic_mean of chi-sq,cor value) engineered feature's name and transforming data according to the feature name\n",
    "top_features = feature_imp['harmonic_mean'].sort_values(ascending=False)[: top]\n",
    "x_train_fe_3 = feature_engineering_perm(x_train, top_features)\n",
    "\n",
    "classifiers = get_classifiers_pipeline() #returns all the classifier pipeline\n",
    "display_hyper = False\n",
    "save_model = True\n",
    "category = 'EngFe50_Hmean'\n",
    "baseline_models = get_classifier_score(x_train_fe_3, y_train, classifiers, display_hyper, save_model, category)"
   ]
  },
  {
   "cell_type": "markdown",
   "id": "2389b45e",
   "metadata": {},
   "source": [
    "#### Kaggle Score(Public and Private Score)\n",
    "<img src='https://i.imgur.com/SS9YKe1.png' width=800 height=600 />"
   ]
  },
  {
   "cell_type": "markdown",
   "id": "1f935ef5",
   "metadata": {},
   "source": [
    "### SMOTE Based Models"
   ]
  },
  {
   "cell_type": "code",
   "execution_count": 22,
   "id": "0e7ce605",
   "metadata": {},
   "outputs": [
    {
     "name": "stderr",
     "output_type": "stream",
     "text": [
      "100%|████████████████████████████████████████████████████████████████████████████████████| 8/8 [10:52<00:00, 81.56s/it]\n"
     ]
    },
    {
     "name": "stdout",
     "output_type": "stream",
     "text": [
      "Example File Name:  saved_models/OrgFe_SMOTE_KNeighborsClassifier_8.sav\n",
      "+-----+------------------------+--------------------+\n",
      "| No. |       Classifier       |    CV AUC Score    |\n",
      "+-----+------------------------+--------------------+\n",
      "|  1  |   LogisticRegression   | 0.8260416666666666 |\n",
      "|  2  |     XGBClassifier      | 0.7864583333333333 |\n",
      "|  3  | RandomForestClassifier | 0.7663194444444444 |\n",
      "|  4  |          SVC           | 0.7645833333333332 |\n",
      "|  5  |       GaussianNB       | 0.7416666666666668 |\n",
      "|  6  |   StackingClassifier   |     0.7234375      |\n",
      "|  7  | DecisionTreeClassifier | 0.6880208333333334 |\n",
      "|  8  |  KNeighborsClassifier  | 0.6682291666666667 |\n",
      "+-----+------------------------+--------------------+\n"
     ]
    }
   ],
   "source": [
    "#using SMOTE to oversample\n",
    "classifiers = get_classifiers_pipeline(sampler = SMOTE()) #returns all the classifier pipeline with SMOTE\n",
    "display_hyper = False\n",
    "save_model = True\n",
    "category = 'OrgFe' #Original Features\n",
    "baseline_models = get_classifier_score(x_train, y_train, classifiers, display_hyper, save_model, category)"
   ]
  },
  {
   "cell_type": "markdown",
   "id": "fffb6cee",
   "metadata": {},
   "source": [
    "#### Kaggle Score(Public and Private Score)\n",
    "<img src='https://i.imgur.com/VaKqz2p.png' width=800 height=600 />"
   ]
  },
  {
   "cell_type": "code",
   "execution_count": 23,
   "id": "1dd4378e",
   "metadata": {},
   "outputs": [
    {
     "name": "stderr",
     "output_type": "stream",
     "text": [
      "100%|████████████████████████████████████████████████████████████████████████████████████| 8/8 [10:52<00:00, 81.59s/it]\n"
     ]
    },
    {
     "name": "stdout",
     "output_type": "stream",
     "text": [
      "Example File Name:  saved_models/OrgFe_BorderlineSMOTE_KNeighborsClassifier_8.sav\n",
      "+-----+------------------------+--------------------+\n",
      "| No. |       Classifier       |    CV AUC Score    |\n",
      "+-----+------------------------+--------------------+\n",
      "|  1  |   LogisticRegression   | 0.8322916666666667 |\n",
      "|  2  |     XGBClassifier      | 0.7944444444444445 |\n",
      "|  3  |          SVC           | 0.7680555555555555 |\n",
      "|  4  | RandomForestClassifier | 0.763888888888889  |\n",
      "|  5  |       GaussianNB       | 0.7177083333333333 |\n",
      "|  6  |   StackingClassifier   |      0.70625       |\n",
      "|  7  | DecisionTreeClassifier | 0.6928819444444444 |\n",
      "|  8  |  KNeighborsClassifier  | 0.6444444444444445 |\n",
      "+-----+------------------------+--------------------+\n"
     ]
    }
   ],
   "source": [
    "#using BorderlineSMOTE to oversample\n",
    "classifiers = get_classifiers_pipeline(sampler = BorderlineSMOTE())#returns all the classifier pipeline with BorderlineSMOTE\n",
    "display_hyper = False\n",
    "save_model = True\n",
    "category = 'OrgFe' #Original Features\n",
    "baseline_models = get_classifier_score(x_train, y_train, classifiers, display_hyper, save_model, category)"
   ]
  },
  {
   "cell_type": "markdown",
   "id": "183e0757",
   "metadata": {},
   "source": [
    "#### Kaggle Score(Public and Private Score)\n",
    "<img src='https://i.imgur.com/eA8Sx8b.png' width=800 height=600 />"
   ]
  },
  {
   "cell_type": "code",
   "execution_count": 24,
   "id": "64bde43c",
   "metadata": {},
   "outputs": [
    {
     "name": "stderr",
     "output_type": "stream",
     "text": [
      "100%|████████████████████████████████████████████████████████████████████████████████████| 8/8 [11:00<00:00, 82.61s/it]\n"
     ]
    },
    {
     "name": "stdout",
     "output_type": "stream",
     "text": [
      "Example File Name:  saved_models/OrgFe_SVMSMOTE_KNeighborsClassifier_8.sav\n",
      "+-----+------------------------+--------------------+\n",
      "| No. |       Classifier       |    CV AUC Score    |\n",
      "+-----+------------------------+--------------------+\n",
      "|  1  |   LogisticRegression   | 0.8225694444444445 |\n",
      "|  2  |     XGBClassifier      | 0.7930555555555555 |\n",
      "|  3  | RandomForestClassifier | 0.7711805555555555 |\n",
      "|  4  |          SVC           | 0.7597222222222223 |\n",
      "|  5  |   StackingClassifier   | 0.7407986111111111 |\n",
      "|  6  |       GaussianNB       | 0.7243055555555554 |\n",
      "|  7  | DecisionTreeClassifier | 0.7050347222222222 |\n",
      "|  8  |  KNeighborsClassifier  |     0.7015625      |\n",
      "+-----+------------------------+--------------------+\n"
     ]
    }
   ],
   "source": [
    "#using SVMSMOTE to oversample\n",
    "classifiers = get_classifiers_pipeline(sampler = SVMSMOTE())#returns all the classifier pipeline with SVMSMOTE\n",
    "display_hyper = False\n",
    "save_model = True\n",
    "category = 'OrgFe' #Original Features\n",
    "baseline_models = get_classifier_score(x_train, y_train, classifiers, display_hyper, save_model, category)"
   ]
  },
  {
   "cell_type": "markdown",
   "id": "023140bb",
   "metadata": {},
   "source": [
    "#### Kaggle Score(Public and Private Score)\n",
    "<img src='https://i.imgur.com/MFBjhKJ.png' width=800 height=600 />"
   ]
  },
  {
   "cell_type": "code",
   "execution_count": 25,
   "id": "9031d3eb",
   "metadata": {},
   "outputs": [
    {
     "name": "stderr",
     "output_type": "stream",
     "text": [
      "100%|████████████████████████████████████████████████████████████████████████████████████| 8/8 [11:05<00:00, 83.23s/it]\n"
     ]
    },
    {
     "name": "stdout",
     "output_type": "stream",
     "text": [
      "Example File Name:  saved_models/OrgFe_ADASYN_KNeighborsClassifier_8.sav\n",
      "+-----+------------------------+--------------------+\n",
      "| No. |       Classifier       |    CV AUC Score    |\n",
      "+-----+------------------------+--------------------+\n",
      "|  1  |   LogisticRegression   | 0.826388888888889  |\n",
      "|  2  |     XGBClassifier      | 0.7920138888888889 |\n",
      "|  3  |          SVC           | 0.7642361111111111 |\n",
      "|  4  | RandomForestClassifier |       0.7625       |\n",
      "|  5  |       GaussianNB       | 0.7427083333333334 |\n",
      "|  6  |   StackingClassifier   | 0.7272569444444444 |\n",
      "|  7  | DecisionTreeClassifier | 0.6817708333333334 |\n",
      "|  8  |  KNeighborsClassifier  | 0.6055555555555555 |\n",
      "+-----+------------------------+--------------------+\n"
     ]
    }
   ],
   "source": [
    "#using ADASYN to oversample\n",
    "classifiers = get_classifiers_pipeline(sampler = ADASYN()) #returns all the classifier pipeline with ADASYN\n",
    "display_hyper = False\n",
    "save_model = True\n",
    "category = 'OrgFe' #Original Features\n",
    "baseline_models = get_classifier_score(x_train, y_train, classifiers, display_hyper, save_model, category)"
   ]
  },
  {
   "cell_type": "markdown",
   "id": "4fe2d6cc",
   "metadata": {},
   "source": [
    "#### Kaggle Score(Public and Private Score)\n",
    "<img src='https://i.imgur.com/51L4jUv.png' width=800 height=600 />"
   ]
  },
  {
   "cell_type": "markdown",
   "id": "bd60c9e2",
   "metadata": {},
   "source": [
    "### GAN Based Oversampling"
   ]
  },
  {
   "cell_type": "code",
   "execution_count": 36,
   "id": "c57395be",
   "metadata": {},
   "outputs": [
    {
     "data": {
      "text/html": [
       "<div>\n",
       "<style scoped>\n",
       "    .dataframe tbody tr th:only-of-type {\n",
       "        vertical-align: middle;\n",
       "    }\n",
       "\n",
       "    .dataframe tbody tr th {\n",
       "        vertical-align: top;\n",
       "    }\n",
       "\n",
       "    .dataframe thead th {\n",
       "        text-align: right;\n",
       "    }\n",
       "</style>\n",
       "<table border=\"1\" class=\"dataframe\">\n",
       "  <thead>\n",
       "    <tr style=\"text-align: right;\">\n",
       "      <th></th>\n",
       "      <th>0</th>\n",
       "      <th>1</th>\n",
       "      <th>2</th>\n",
       "      <th>3</th>\n",
       "      <th>4</th>\n",
       "      <th>5</th>\n",
       "      <th>6</th>\n",
       "      <th>7</th>\n",
       "      <th>8</th>\n",
       "      <th>9</th>\n",
       "      <th>...</th>\n",
       "      <th>290</th>\n",
       "      <th>291</th>\n",
       "      <th>292</th>\n",
       "      <th>293</th>\n",
       "      <th>294</th>\n",
       "      <th>295</th>\n",
       "      <th>296</th>\n",
       "      <th>297</th>\n",
       "      <th>298</th>\n",
       "      <th>299</th>\n",
       "    </tr>\n",
       "  </thead>\n",
       "  <tbody>\n",
       "    <tr>\n",
       "      <th>0</th>\n",
       "      <td>-1.231536</td>\n",
       "      <td>-0.757058</td>\n",
       "      <td>0.323471</td>\n",
       "      <td>-0.373336</td>\n",
       "      <td>1.740396</td>\n",
       "      <td>-0.011642</td>\n",
       "      <td>0.787421</td>\n",
       "      <td>-0.554207</td>\n",
       "      <td>-1.111556</td>\n",
       "      <td>-1.101803</td>\n",
       "      <td>...</td>\n",
       "      <td>-1.539691</td>\n",
       "      <td>0.437288</td>\n",
       "      <td>-0.864773</td>\n",
       "      <td>-2.047273</td>\n",
       "      <td>-1.318439</td>\n",
       "      <td>-0.535834</td>\n",
       "      <td>-0.242430</td>\n",
       "      <td>-1.270979</td>\n",
       "      <td>0.167726</td>\n",
       "      <td>0.890323</td>\n",
       "    </tr>\n",
       "    <tr>\n",
       "      <th>1</th>\n",
       "      <td>0.527475</td>\n",
       "      <td>-2.009773</td>\n",
       "      <td>0.031520</td>\n",
       "      <td>-0.722841</td>\n",
       "      <td>1.272380</td>\n",
       "      <td>0.217252</td>\n",
       "      <td>0.162855</td>\n",
       "      <td>-0.504717</td>\n",
       "      <td>0.036916</td>\n",
       "      <td>-0.363956</td>\n",
       "      <td>...</td>\n",
       "      <td>0.066485</td>\n",
       "      <td>0.971897</td>\n",
       "      <td>0.824495</td>\n",
       "      <td>-0.193334</td>\n",
       "      <td>-0.845217</td>\n",
       "      <td>0.024121</td>\n",
       "      <td>-0.044567</td>\n",
       "      <td>-0.401558</td>\n",
       "      <td>-0.315309</td>\n",
       "      <td>0.729277</td>\n",
       "    </tr>\n",
       "    <tr>\n",
       "      <th>2</th>\n",
       "      <td>1.433272</td>\n",
       "      <td>-1.541269</td>\n",
       "      <td>0.154739</td>\n",
       "      <td>1.055611</td>\n",
       "      <td>-1.003305</td>\n",
       "      <td>1.193708</td>\n",
       "      <td>-0.841651</td>\n",
       "      <td>1.394856</td>\n",
       "      <td>2.288121</td>\n",
       "      <td>1.210096</td>\n",
       "      <td>...</td>\n",
       "      <td>-0.187716</td>\n",
       "      <td>-1.260288</td>\n",
       "      <td>0.528304</td>\n",
       "      <td>0.343590</td>\n",
       "      <td>-0.593913</td>\n",
       "      <td>-0.219812</td>\n",
       "      <td>0.704353</td>\n",
       "      <td>-1.886140</td>\n",
       "      <td>1.295608</td>\n",
       "      <td>-0.353314</td>\n",
       "    </tr>\n",
       "    <tr>\n",
       "      <th>3</th>\n",
       "      <td>1.243422</td>\n",
       "      <td>-3.354106</td>\n",
       "      <td>1.253618</td>\n",
       "      <td>-1.147332</td>\n",
       "      <td>0.882893</td>\n",
       "      <td>1.536356</td>\n",
       "      <td>-0.517656</td>\n",
       "      <td>-0.093137</td>\n",
       "      <td>-0.115199</td>\n",
       "      <td>-1.654826</td>\n",
       "      <td>...</td>\n",
       "      <td>1.827667</td>\n",
       "      <td>1.577450</td>\n",
       "      <td>2.854554</td>\n",
       "      <td>0.378508</td>\n",
       "      <td>0.476266</td>\n",
       "      <td>-0.366529</td>\n",
       "      <td>0.693955</td>\n",
       "      <td>-0.849632</td>\n",
       "      <td>-0.833875</td>\n",
       "      <td>0.253276</td>\n",
       "    </tr>\n",
       "    <tr>\n",
       "      <th>4</th>\n",
       "      <td>-0.522224</td>\n",
       "      <td>1.797188</td>\n",
       "      <td>1.197893</td>\n",
       "      <td>0.610273</td>\n",
       "      <td>0.527629</td>\n",
       "      <td>0.310325</td>\n",
       "      <td>-0.688651</td>\n",
       "      <td>-2.323620</td>\n",
       "      <td>-1.153003</td>\n",
       "      <td>0.520274</td>\n",
       "      <td>...</td>\n",
       "      <td>2.061646</td>\n",
       "      <td>0.202365</td>\n",
       "      <td>-0.287820</td>\n",
       "      <td>1.410335</td>\n",
       "      <td>-0.582540</td>\n",
       "      <td>0.138703</td>\n",
       "      <td>-1.518092</td>\n",
       "      <td>0.356950</td>\n",
       "      <td>-0.116612</td>\n",
       "      <td>0.742705</td>\n",
       "    </tr>\n",
       "    <tr>\n",
       "      <th>...</th>\n",
       "      <td>...</td>\n",
       "      <td>...</td>\n",
       "      <td>...</td>\n",
       "      <td>...</td>\n",
       "      <td>...</td>\n",
       "      <td>...</td>\n",
       "      <td>...</td>\n",
       "      <td>...</td>\n",
       "      <td>...</td>\n",
       "      <td>...</td>\n",
       "      <td>...</td>\n",
       "      <td>...</td>\n",
       "      <td>...</td>\n",
       "      <td>...</td>\n",
       "      <td>...</td>\n",
       "      <td>...</td>\n",
       "      <td>...</td>\n",
       "      <td>...</td>\n",
       "      <td>...</td>\n",
       "      <td>...</td>\n",
       "      <td>...</td>\n",
       "    </tr>\n",
       "    <tr>\n",
       "      <th>176</th>\n",
       "      <td>-2.124128</td>\n",
       "      <td>0.405036</td>\n",
       "      <td>0.221787</td>\n",
       "      <td>-1.100904</td>\n",
       "      <td>2.740901</td>\n",
       "      <td>0.826122</td>\n",
       "      <td>1.344687</td>\n",
       "      <td>-0.337886</td>\n",
       "      <td>-1.193999</td>\n",
       "      <td>-3.253947</td>\n",
       "      <td>...</td>\n",
       "      <td>0.025036</td>\n",
       "      <td>0.600713</td>\n",
       "      <td>0.208316</td>\n",
       "      <td>-0.197595</td>\n",
       "      <td>1.476042</td>\n",
       "      <td>-0.986735</td>\n",
       "      <td>0.611642</td>\n",
       "      <td>0.091400</td>\n",
       "      <td>-0.861588</td>\n",
       "      <td>1.382062</td>\n",
       "    </tr>\n",
       "    <tr>\n",
       "      <th>177</th>\n",
       "      <td>-0.738197</td>\n",
       "      <td>-0.814411</td>\n",
       "      <td>2.704579</td>\n",
       "      <td>-0.437952</td>\n",
       "      <td>0.984169</td>\n",
       "      <td>-0.098871</td>\n",
       "      <td>0.145119</td>\n",
       "      <td>0.387999</td>\n",
       "      <td>-0.788392</td>\n",
       "      <td>-1.045667</td>\n",
       "      <td>...</td>\n",
       "      <td>-0.446112</td>\n",
       "      <td>-0.758467</td>\n",
       "      <td>-2.876692</td>\n",
       "      <td>1.000746</td>\n",
       "      <td>-0.523397</td>\n",
       "      <td>-0.683659</td>\n",
       "      <td>0.869735</td>\n",
       "      <td>0.547007</td>\n",
       "      <td>0.553762</td>\n",
       "      <td>-1.778071</td>\n",
       "    </tr>\n",
       "    <tr>\n",
       "      <th>178</th>\n",
       "      <td>1.926204</td>\n",
       "      <td>-2.239471</td>\n",
       "      <td>-0.529206</td>\n",
       "      <td>-1.306862</td>\n",
       "      <td>-0.288111</td>\n",
       "      <td>0.499006</td>\n",
       "      <td>0.633132</td>\n",
       "      <td>-1.568048</td>\n",
       "      <td>0.912831</td>\n",
       "      <td>-0.157988</td>\n",
       "      <td>...</td>\n",
       "      <td>1.490367</td>\n",
       "      <td>1.116894</td>\n",
       "      <td>1.565116</td>\n",
       "      <td>2.473838</td>\n",
       "      <td>0.577597</td>\n",
       "      <td>-0.387297</td>\n",
       "      <td>-1.419720</td>\n",
       "      <td>-1.121611</td>\n",
       "      <td>-0.642613</td>\n",
       "      <td>0.302140</td>\n",
       "    </tr>\n",
       "    <tr>\n",
       "      <th>179</th>\n",
       "      <td>2.774865</td>\n",
       "      <td>-1.580524</td>\n",
       "      <td>-0.220344</td>\n",
       "      <td>-2.936759</td>\n",
       "      <td>1.112859</td>\n",
       "      <td>-0.326763</td>\n",
       "      <td>-1.337632</td>\n",
       "      <td>-1.818586</td>\n",
       "      <td>-0.433604</td>\n",
       "      <td>-0.924282</td>\n",
       "      <td>...</td>\n",
       "      <td>-0.528094</td>\n",
       "      <td>0.142860</td>\n",
       "      <td>1.301418</td>\n",
       "      <td>0.707005</td>\n",
       "      <td>0.757709</td>\n",
       "      <td>1.041660</td>\n",
       "      <td>-1.178949</td>\n",
       "      <td>-1.898698</td>\n",
       "      <td>-1.873588</td>\n",
       "      <td>-0.140372</td>\n",
       "    </tr>\n",
       "    <tr>\n",
       "      <th>180</th>\n",
       "      <td>-0.567688</td>\n",
       "      <td>-0.570253</td>\n",
       "      <td>0.514441</td>\n",
       "      <td>1.194271</td>\n",
       "      <td>2.461060</td>\n",
       "      <td>-2.035131</td>\n",
       "      <td>1.603305</td>\n",
       "      <td>0.071786</td>\n",
       "      <td>1.939684</td>\n",
       "      <td>-0.438677</td>\n",
       "      <td>...</td>\n",
       "      <td>-0.566764</td>\n",
       "      <td>-1.958286</td>\n",
       "      <td>-1.424771</td>\n",
       "      <td>-1.093924</td>\n",
       "      <td>-0.206927</td>\n",
       "      <td>0.549552</td>\n",
       "      <td>1.800646</td>\n",
       "      <td>2.016586</td>\n",
       "      <td>2.067118</td>\n",
       "      <td>-0.184697</td>\n",
       "    </tr>\n",
       "  </tbody>\n",
       "</table>\n",
       "<p>181 rows × 300 columns</p>\n",
       "</div>"
      ],
      "text/plain": [
       "            0         1         2         3         4         5         6  \\\n",
       "0   -1.231536 -0.757058  0.323471 -0.373336  1.740396 -0.011642  0.787421   \n",
       "1    0.527475 -2.009773  0.031520 -0.722841  1.272380  0.217252  0.162855   \n",
       "2    1.433272 -1.541269  0.154739  1.055611 -1.003305  1.193708 -0.841651   \n",
       "3    1.243422 -3.354106  1.253618 -1.147332  0.882893  1.536356 -0.517656   \n",
       "4   -0.522224  1.797188  1.197893  0.610273  0.527629  0.310325 -0.688651   \n",
       "..        ...       ...       ...       ...       ...       ...       ...   \n",
       "176 -2.124128  0.405036  0.221787 -1.100904  2.740901  0.826122  1.344687   \n",
       "177 -0.738197 -0.814411  2.704579 -0.437952  0.984169 -0.098871  0.145119   \n",
       "178  1.926204 -2.239471 -0.529206 -1.306862 -0.288111  0.499006  0.633132   \n",
       "179  2.774865 -1.580524 -0.220344 -2.936759  1.112859 -0.326763 -1.337632   \n",
       "180 -0.567688 -0.570253  0.514441  1.194271  2.461060 -2.035131  1.603305   \n",
       "\n",
       "            7         8         9  ...       290       291       292  \\\n",
       "0   -0.554207 -1.111556 -1.101803  ... -1.539691  0.437288 -0.864773   \n",
       "1   -0.504717  0.036916 -0.363956  ...  0.066485  0.971897  0.824495   \n",
       "2    1.394856  2.288121  1.210096  ... -0.187716 -1.260288  0.528304   \n",
       "3   -0.093137 -0.115199 -1.654826  ...  1.827667  1.577450  2.854554   \n",
       "4   -2.323620 -1.153003  0.520274  ...  2.061646  0.202365 -0.287820   \n",
       "..        ...       ...       ...  ...       ...       ...       ...   \n",
       "176 -0.337886 -1.193999 -3.253947  ...  0.025036  0.600713  0.208316   \n",
       "177  0.387999 -0.788392 -1.045667  ... -0.446112 -0.758467 -2.876692   \n",
       "178 -1.568048  0.912831 -0.157988  ...  1.490367  1.116894  1.565116   \n",
       "179 -1.818586 -0.433604 -0.924282  ... -0.528094  0.142860  1.301418   \n",
       "180  0.071786  1.939684 -0.438677  ... -0.566764 -1.958286 -1.424771   \n",
       "\n",
       "          293       294       295       296       297       298       299  \n",
       "0   -2.047273 -1.318439 -0.535834 -0.242430 -1.270979  0.167726  0.890323  \n",
       "1   -0.193334 -0.845217  0.024121 -0.044567 -0.401558 -0.315309  0.729277  \n",
       "2    0.343590 -0.593913 -0.219812  0.704353 -1.886140  1.295608 -0.353314  \n",
       "3    0.378508  0.476266 -0.366529  0.693955 -0.849632 -0.833875  0.253276  \n",
       "4    1.410335 -0.582540  0.138703 -1.518092  0.356950 -0.116612  0.742705  \n",
       "..        ...       ...       ...       ...       ...       ...       ...  \n",
       "176 -0.197595  1.476042 -0.986735  0.611642  0.091400 -0.861588  1.382062  \n",
       "177  1.000746 -0.523397 -0.683659  0.869735  0.547007  0.553762 -1.778071  \n",
       "178  2.473838  0.577597 -0.387297 -1.419720 -1.121611 -0.642613  0.302140  \n",
       "179  0.707005  0.757709  1.041660 -1.178949 -1.898698 -1.873588 -0.140372  \n",
       "180 -1.093924 -0.206927  0.549552  1.800646  2.016586  2.067118 -0.184697  \n",
       "\n",
       "[181 rows x 300 columns]"
      ]
     },
     "execution_count": 36,
     "metadata": {},
     "output_type": "execute_result"
    }
   ],
   "source": [
    "#importing the datapoints generated using Gan\n",
    "gan_generated = pd.read_csv('gan_generate_data.csv')\n",
    "gan_generated"
   ]
  },
  {
   "cell_type": "code",
   "execution_count": 37,
   "id": "f12a9fde",
   "metadata": {},
   "outputs": [
    {
     "data": {
      "text/html": [
       "<div>\n",
       "<style scoped>\n",
       "    .dataframe tbody tr th:only-of-type {\n",
       "        vertical-align: middle;\n",
       "    }\n",
       "\n",
       "    .dataframe tbody tr th {\n",
       "        vertical-align: top;\n",
       "    }\n",
       "\n",
       "    .dataframe thead th {\n",
       "        text-align: right;\n",
       "    }\n",
       "</style>\n",
       "<table border=\"1\" class=\"dataframe\">\n",
       "  <thead>\n",
       "    <tr style=\"text-align: right;\">\n",
       "      <th></th>\n",
       "      <th>0</th>\n",
       "      <th>1</th>\n",
       "      <th>2</th>\n",
       "      <th>3</th>\n",
       "      <th>4</th>\n",
       "      <th>5</th>\n",
       "      <th>6</th>\n",
       "      <th>7</th>\n",
       "      <th>8</th>\n",
       "      <th>9</th>\n",
       "      <th>...</th>\n",
       "      <th>290</th>\n",
       "      <th>291</th>\n",
       "      <th>292</th>\n",
       "      <th>293</th>\n",
       "      <th>294</th>\n",
       "      <th>295</th>\n",
       "      <th>296</th>\n",
       "      <th>297</th>\n",
       "      <th>298</th>\n",
       "      <th>299</th>\n",
       "    </tr>\n",
       "  </thead>\n",
       "  <tbody>\n",
       "    <tr>\n",
       "      <th>0</th>\n",
       "      <td>-0.098000</td>\n",
       "      <td>2.165000</td>\n",
       "      <td>0.681000</td>\n",
       "      <td>-0.614000</td>\n",
       "      <td>1.309000</td>\n",
       "      <td>-0.455000</td>\n",
       "      <td>-0.236000</td>\n",
       "      <td>0.276000</td>\n",
       "      <td>-2.246000</td>\n",
       "      <td>1.825000</td>\n",
       "      <td>...</td>\n",
       "      <td>0.867000</td>\n",
       "      <td>1.347000</td>\n",
       "      <td>0.504000</td>\n",
       "      <td>-0.649000</td>\n",
       "      <td>0.672000</td>\n",
       "      <td>-2.097000</td>\n",
       "      <td>1.051000</td>\n",
       "      <td>-0.414000</td>\n",
       "      <td>1.038000</td>\n",
       "      <td>-1.065000</td>\n",
       "    </tr>\n",
       "    <tr>\n",
       "      <th>1</th>\n",
       "      <td>1.081000</td>\n",
       "      <td>-0.973000</td>\n",
       "      <td>-0.383000</td>\n",
       "      <td>0.326000</td>\n",
       "      <td>-0.428000</td>\n",
       "      <td>0.317000</td>\n",
       "      <td>1.172000</td>\n",
       "      <td>0.352000</td>\n",
       "      <td>0.004000</td>\n",
       "      <td>-0.291000</td>\n",
       "      <td>...</td>\n",
       "      <td>-0.165000</td>\n",
       "      <td>-1.695000</td>\n",
       "      <td>-1.257000</td>\n",
       "      <td>1.359000</td>\n",
       "      <td>-0.808000</td>\n",
       "      <td>-1.624000</td>\n",
       "      <td>-0.458000</td>\n",
       "      <td>-1.099000</td>\n",
       "      <td>-0.936000</td>\n",
       "      <td>0.973000</td>\n",
       "    </tr>\n",
       "    <tr>\n",
       "      <th>2</th>\n",
       "      <td>-0.523000</td>\n",
       "      <td>-0.089000</td>\n",
       "      <td>-0.348000</td>\n",
       "      <td>0.148000</td>\n",
       "      <td>-0.022000</td>\n",
       "      <td>0.404000</td>\n",
       "      <td>-0.023000</td>\n",
       "      <td>-0.172000</td>\n",
       "      <td>0.137000</td>\n",
       "      <td>0.183000</td>\n",
       "      <td>...</td>\n",
       "      <td>0.013000</td>\n",
       "      <td>0.263000</td>\n",
       "      <td>-1.222000</td>\n",
       "      <td>0.726000</td>\n",
       "      <td>1.444000</td>\n",
       "      <td>-1.165000</td>\n",
       "      <td>-1.544000</td>\n",
       "      <td>0.004000</td>\n",
       "      <td>0.800000</td>\n",
       "      <td>-1.211000</td>\n",
       "    </tr>\n",
       "    <tr>\n",
       "      <th>3</th>\n",
       "      <td>0.067000</td>\n",
       "      <td>-0.021000</td>\n",
       "      <td>0.392000</td>\n",
       "      <td>-1.637000</td>\n",
       "      <td>-0.446000</td>\n",
       "      <td>-0.725000</td>\n",
       "      <td>-1.035000</td>\n",
       "      <td>0.834000</td>\n",
       "      <td>0.503000</td>\n",
       "      <td>0.274000</td>\n",
       "      <td>...</td>\n",
       "      <td>-0.404000</td>\n",
       "      <td>0.640000</td>\n",
       "      <td>-0.595000</td>\n",
       "      <td>-0.966000</td>\n",
       "      <td>0.900000</td>\n",
       "      <td>0.467000</td>\n",
       "      <td>-0.562000</td>\n",
       "      <td>-0.254000</td>\n",
       "      <td>-0.533000</td>\n",
       "      <td>0.238000</td>\n",
       "    </tr>\n",
       "    <tr>\n",
       "      <th>4</th>\n",
       "      <td>2.347000</td>\n",
       "      <td>-0.831000</td>\n",
       "      <td>0.511000</td>\n",
       "      <td>-0.021000</td>\n",
       "      <td>1.225000</td>\n",
       "      <td>1.594000</td>\n",
       "      <td>0.585000</td>\n",
       "      <td>1.509000</td>\n",
       "      <td>-0.012000</td>\n",
       "      <td>2.198000</td>\n",
       "      <td>...</td>\n",
       "      <td>0.898000</td>\n",
       "      <td>0.134000</td>\n",
       "      <td>2.415000</td>\n",
       "      <td>-0.996000</td>\n",
       "      <td>-1.006000</td>\n",
       "      <td>1.378000</td>\n",
       "      <td>1.246000</td>\n",
       "      <td>1.478000</td>\n",
       "      <td>0.428000</td>\n",
       "      <td>0.253000</td>\n",
       "    </tr>\n",
       "    <tr>\n",
       "      <th>...</th>\n",
       "      <td>...</td>\n",
       "      <td>...</td>\n",
       "      <td>...</td>\n",
       "      <td>...</td>\n",
       "      <td>...</td>\n",
       "      <td>...</td>\n",
       "      <td>...</td>\n",
       "      <td>...</td>\n",
       "      <td>...</td>\n",
       "      <td>...</td>\n",
       "      <td>...</td>\n",
       "      <td>...</td>\n",
       "      <td>...</td>\n",
       "      <td>...</td>\n",
       "      <td>...</td>\n",
       "      <td>...</td>\n",
       "      <td>...</td>\n",
       "      <td>...</td>\n",
       "      <td>...</td>\n",
       "      <td>...</td>\n",
       "      <td>...</td>\n",
       "    </tr>\n",
       "    <tr>\n",
       "      <th>315</th>\n",
       "      <td>-0.056573</td>\n",
       "      <td>-0.908669</td>\n",
       "      <td>-0.764223</td>\n",
       "      <td>0.376006</td>\n",
       "      <td>-0.589402</td>\n",
       "      <td>-1.562916</td>\n",
       "      <td>1.041014</td>\n",
       "      <td>0.410800</td>\n",
       "      <td>0.792129</td>\n",
       "      <td>-0.334161</td>\n",
       "      <td>...</td>\n",
       "      <td>-1.728630</td>\n",
       "      <td>-0.007303</td>\n",
       "      <td>2.038653</td>\n",
       "      <td>0.829545</td>\n",
       "      <td>-2.129589</td>\n",
       "      <td>0.165105</td>\n",
       "      <td>1.469861</td>\n",
       "      <td>-1.030338</td>\n",
       "      <td>0.714158</td>\n",
       "      <td>-0.960065</td>\n",
       "    </tr>\n",
       "    <tr>\n",
       "      <th>316</th>\n",
       "      <td>-0.604192</td>\n",
       "      <td>0.959602</td>\n",
       "      <td>1.085638</td>\n",
       "      <td>-0.097572</td>\n",
       "      <td>0.094247</td>\n",
       "      <td>-0.993040</td>\n",
       "      <td>-0.388491</td>\n",
       "      <td>0.474882</td>\n",
       "      <td>-1.484817</td>\n",
       "      <td>-1.214495</td>\n",
       "      <td>...</td>\n",
       "      <td>1.047249</td>\n",
       "      <td>-0.503792</td>\n",
       "      <td>-0.197375</td>\n",
       "      <td>1.280109</td>\n",
       "      <td>-1.088370</td>\n",
       "      <td>-0.285495</td>\n",
       "      <td>0.231605</td>\n",
       "      <td>-0.629980</td>\n",
       "      <td>-0.101128</td>\n",
       "      <td>0.078099</td>\n",
       "    </tr>\n",
       "    <tr>\n",
       "      <th>317</th>\n",
       "      <td>-0.442997</td>\n",
       "      <td>0.185709</td>\n",
       "      <td>0.330809</td>\n",
       "      <td>0.922754</td>\n",
       "      <td>0.225768</td>\n",
       "      <td>-1.604853</td>\n",
       "      <td>-1.321189</td>\n",
       "      <td>0.659735</td>\n",
       "      <td>0.970101</td>\n",
       "      <td>-1.575665</td>\n",
       "      <td>...</td>\n",
       "      <td>-0.130702</td>\n",
       "      <td>-1.645922</td>\n",
       "      <td>-0.696468</td>\n",
       "      <td>0.696990</td>\n",
       "      <td>2.036208</td>\n",
       "      <td>0.700095</td>\n",
       "      <td>0.256176</td>\n",
       "      <td>0.355959</td>\n",
       "      <td>-0.062697</td>\n",
       "      <td>-0.526736</td>\n",
       "    </tr>\n",
       "    <tr>\n",
       "      <th>318</th>\n",
       "      <td>-0.164960</td>\n",
       "      <td>-1.249736</td>\n",
       "      <td>1.569788</td>\n",
       "      <td>-0.828402</td>\n",
       "      <td>0.828032</td>\n",
       "      <td>0.577683</td>\n",
       "      <td>0.578360</td>\n",
       "      <td>0.183324</td>\n",
       "      <td>0.663387</td>\n",
       "      <td>0.831685</td>\n",
       "      <td>...</td>\n",
       "      <td>-1.278772</td>\n",
       "      <td>-0.939224</td>\n",
       "      <td>-2.893024</td>\n",
       "      <td>2.037708</td>\n",
       "      <td>-0.201416</td>\n",
       "      <td>-2.337625</td>\n",
       "      <td>-0.068142</td>\n",
       "      <td>-0.586879</td>\n",
       "      <td>3.043970</td>\n",
       "      <td>-2.007598</td>\n",
       "    </tr>\n",
       "    <tr>\n",
       "      <th>319</th>\n",
       "      <td>-2.160246</td>\n",
       "      <td>0.454594</td>\n",
       "      <td>0.822731</td>\n",
       "      <td>1.151629</td>\n",
       "      <td>2.102464</td>\n",
       "      <td>-0.355015</td>\n",
       "      <td>1.932961</td>\n",
       "      <td>-0.742489</td>\n",
       "      <td>-0.138519</td>\n",
       "      <td>-1.485953</td>\n",
       "      <td>...</td>\n",
       "      <td>-1.723897</td>\n",
       "      <td>-0.514058</td>\n",
       "      <td>-0.659711</td>\n",
       "      <td>-2.265328</td>\n",
       "      <td>-0.293249</td>\n",
       "      <td>-0.038791</td>\n",
       "      <td>0.293672</td>\n",
       "      <td>-0.564244</td>\n",
       "      <td>0.743442</td>\n",
       "      <td>0.561007</td>\n",
       "    </tr>\n",
       "  </tbody>\n",
       "</table>\n",
       "<p>320 rows × 300 columns</p>\n",
       "</div>"
      ],
      "text/plain": [
       "            0         1         2         3         4         5         6  \\\n",
       "0   -0.098000  2.165000  0.681000 -0.614000  1.309000 -0.455000 -0.236000   \n",
       "1    1.081000 -0.973000 -0.383000  0.326000 -0.428000  0.317000  1.172000   \n",
       "2   -0.523000 -0.089000 -0.348000  0.148000 -0.022000  0.404000 -0.023000   \n",
       "3    0.067000 -0.021000  0.392000 -1.637000 -0.446000 -0.725000 -1.035000   \n",
       "4    2.347000 -0.831000  0.511000 -0.021000  1.225000  1.594000  0.585000   \n",
       "..        ...       ...       ...       ...       ...       ...       ...   \n",
       "315 -0.056573 -0.908669 -0.764223  0.376006 -0.589402 -1.562916  1.041014   \n",
       "316 -0.604192  0.959602  1.085638 -0.097572  0.094247 -0.993040 -0.388491   \n",
       "317 -0.442997  0.185709  0.330809  0.922754  0.225768 -1.604853 -1.321189   \n",
       "318 -0.164960 -1.249736  1.569788 -0.828402  0.828032  0.577683  0.578360   \n",
       "319 -2.160246  0.454594  0.822731  1.151629  2.102464 -0.355015  1.932961   \n",
       "\n",
       "            7         8         9  ...       290       291       292  \\\n",
       "0    0.276000 -2.246000  1.825000  ...  0.867000  1.347000  0.504000   \n",
       "1    0.352000  0.004000 -0.291000  ... -0.165000 -1.695000 -1.257000   \n",
       "2   -0.172000  0.137000  0.183000  ...  0.013000  0.263000 -1.222000   \n",
       "3    0.834000  0.503000  0.274000  ... -0.404000  0.640000 -0.595000   \n",
       "4    1.509000 -0.012000  2.198000  ...  0.898000  0.134000  2.415000   \n",
       "..        ...       ...       ...  ...       ...       ...       ...   \n",
       "315  0.410800  0.792129 -0.334161  ... -1.728630 -0.007303  2.038653   \n",
       "316  0.474882 -1.484817 -1.214495  ...  1.047249 -0.503792 -0.197375   \n",
       "317  0.659735  0.970101 -1.575665  ... -0.130702 -1.645922 -0.696468   \n",
       "318  0.183324  0.663387  0.831685  ... -1.278772 -0.939224 -2.893024   \n",
       "319 -0.742489 -0.138519 -1.485953  ... -1.723897 -0.514058 -0.659711   \n",
       "\n",
       "          293       294       295       296       297       298       299  \n",
       "0   -0.649000  0.672000 -2.097000  1.051000 -0.414000  1.038000 -1.065000  \n",
       "1    1.359000 -0.808000 -1.624000 -0.458000 -1.099000 -0.936000  0.973000  \n",
       "2    0.726000  1.444000 -1.165000 -1.544000  0.004000  0.800000 -1.211000  \n",
       "3   -0.966000  0.900000  0.467000 -0.562000 -0.254000 -0.533000  0.238000  \n",
       "4   -0.996000 -1.006000  1.378000  1.246000  1.478000  0.428000  0.253000  \n",
       "..        ...       ...       ...       ...       ...       ...       ...  \n",
       "315  0.829545 -2.129589  0.165105  1.469861 -1.030338  0.714158 -0.960065  \n",
       "316  1.280109 -1.088370 -0.285495  0.231605 -0.629980 -0.101128  0.078099  \n",
       "317  0.696990  2.036208  0.700095  0.256176  0.355959 -0.062697 -0.526736  \n",
       "318  2.037708 -0.201416 -2.337625 -0.068142 -0.586879  3.043970 -2.007598  \n",
       "319 -2.265328 -0.293249 -0.038791  0.293672 -0.564244  0.743442  0.561007  \n",
       "\n",
       "[320 rows x 300 columns]"
      ]
     },
     "execution_count": 37,
     "metadata": {},
     "output_type": "execute_result"
    }
   ],
   "source": [
    "#appending the 70 generated datapoints to balance the dataset\n",
    "gan_generated_x = x_train.append(gan_generated.sample(n=70), ignore_index= True)\n",
    "gan_generated_x"
   ]
  },
  {
   "cell_type": "code",
   "execution_count": 38,
   "id": "2986dfbe",
   "metadata": {},
   "outputs": [
    {
     "data": {
      "text/plain": [
       "0.0    160\n",
       "1.0    160\n",
       "dtype: int64"
      ]
     },
     "execution_count": 38,
     "metadata": {},
     "output_type": "execute_result"
    }
   ],
   "source": [
    "gan_generated_y = y_train.append(pd.Series([0]*70), ignore_index=True)\n",
    "gan_generated_y.value_counts()"
   ]
  },
  {
   "cell_type": "code",
   "execution_count": 39,
   "id": "c2c4facd",
   "metadata": {},
   "outputs": [
    {
     "name": "stderr",
     "output_type": "stream",
     "text": [
      "100%|████████████████████████████████████████████████████████████████████████████████████| 8/8 [10:48<00:00, 81.10s/it]\n"
     ]
    },
    {
     "name": "stdout",
     "output_type": "stream",
     "text": [
      "Example File Name:  saved_models/OrgFeGan_DecisionTreeClassifier_8.sav\n",
      "+-----+------------------------+---------------+\n",
      "| No. |       Classifier       |  CV AUC Score |\n",
      "+-----+------------------------+---------------+\n",
      "|  1  |          SVC           |  0.889453125  |\n",
      "|  2  | RandomForestClassifier |  0.876171875  |\n",
      "|  3  |   LogisticRegression   |  0.8712890625 |\n",
      "|  4  |     XGBClassifier      |  0.869921875  |\n",
      "|  5  |  KNeighborsClassifier  |  0.851171875  |\n",
      "|  6  |       GaussianNB       |  0.8498046875 |\n",
      "|  7  |   StackingClassifier   |   0.83359375  |\n",
      "|  8  | DecisionTreeClassifier | 0.72177734375 |\n",
      "+-----+------------------------+---------------+\n"
     ]
    }
   ],
   "source": [
    "#training\n",
    "classifiers = get_classifiers_pipeline() #returns all the classifier pipeline\n",
    "display_hyper = False\n",
    "save_model = True\n",
    "category = 'OrgFeGan' #Original Features\n",
    "baseline_models = get_classifier_score(gan_generated_x, gan_generated_y, classifiers, display_hyper, save_model, category)"
   ]
  },
  {
   "cell_type": "markdown",
   "id": "bdde3500",
   "metadata": {},
   "source": [
    "#### Kaggle Score(Public and Private Score)\n",
    "<img src='https://i.imgur.com/kYtGvAS.png' width=800 height=600 />"
   ]
  },
  {
   "cell_type": "markdown",
   "id": "f7630d52",
   "metadata": {},
   "source": [
    "### PCA"
   ]
  },
  {
   "cell_type": "code",
   "execution_count": 30,
   "id": "1f97efbb",
   "metadata": {},
   "outputs": [
    {
     "name": "stderr",
     "output_type": "stream",
     "text": [
      "100%|████████████████████████████████████████████████████████████████████████████████████| 8/8 [06:27<00:00, 48.49s/it]\n"
     ]
    },
    {
     "name": "stdout",
     "output_type": "stream",
     "text": [
      "Example File Name:  saved_models/OrgFe_PCA_DecisionTreeClassifier_8.sav\n",
      "+-----+------------------------+--------------------+\n",
      "| No. |       Classifier       |    CV AUC Score    |\n",
      "+-----+------------------------+--------------------+\n",
      "|  1  |   LogisticRegression   | 0.7510416666666667 |\n",
      "|  2  |          SVC           | 0.7510416666666666 |\n",
      "|  3  | RandomForestClassifier | 0.7336805555555557 |\n",
      "|  4  |       GaussianNB       | 0.732638888888889  |\n",
      "|  5  |     XGBClassifier      | 0.7100694444444444 |\n",
      "|  6  |   StackingClassifier   | 0.6930555555555555 |\n",
      "|  7  |  KNeighborsClassifier  | 0.6607638888888889 |\n",
      "|  8  | DecisionTreeClassifier | 0.6399305555555556 |\n",
      "+-----+------------------------+--------------------+\n"
     ]
    }
   ],
   "source": [
    "classifiers = get_classifiers_pipeline(dimRed = PCA(n_components = 100)) #returns all the classifier pipeline with pca\n",
    "display_hyper = False\n",
    "save_model = True\n",
    "category = 'OrgFe' #Original Features\n",
    "baseline_models = get_classifier_score(x_train, y_train, classifiers, display_hyper, save_model, category)"
   ]
  },
  {
   "cell_type": "markdown",
   "id": "8786e9db",
   "metadata": {},
   "source": [
    "#### Kaggle Score(Public and Private Score)\n",
    "<img src='https://i.imgur.com/OlAkAWo.png' width=800 height=600 />"
   ]
  },
  {
   "cell_type": "markdown",
   "id": "21bb9488",
   "metadata": {},
   "source": [
    "### Scaling"
   ]
  },
  {
   "cell_type": "code",
   "execution_count": 31,
   "id": "e6c01d00",
   "metadata": {},
   "outputs": [
    {
     "name": "stderr",
     "output_type": "stream",
     "text": [
      "100%|████████████████████████████████████████████████████████████████████████████████████| 8/8 [08:27<00:00, 63.43s/it]\n"
     ]
    },
    {
     "name": "stdout",
     "output_type": "stream",
     "text": [
      "Example File Name:  saved_models/OrgFe_MinMaxScaler_KNeighborsClassifier_8.sav\n",
      "+-----+------------------------+--------------------+\n",
      "| No. |       Classifier       |    CV AUC Score    |\n",
      "+-----+------------------------+--------------------+\n",
      "|  1  |   LogisticRegression   | 0.8243055555555555 |\n",
      "|  2  |     XGBClassifier      | 0.7989583333333334 |\n",
      "|  3  | RandomForestClassifier | 0.7760416666666666 |\n",
      "|  4  |          SVC           | 0.7579861111111112 |\n",
      "|  5  |       GaussianNB       | 0.7381944444444445 |\n",
      "|  6  |   StackingClassifier   | 0.6758680555555555 |\n",
      "|  7  | DecisionTreeClassifier | 0.6666666666666666 |\n",
      "|  8  |  KNeighborsClassifier  | 0.6427083333333333 |\n",
      "+-----+------------------------+--------------------+\n"
     ]
    }
   ],
   "source": [
    "#MinMaxScaler\n",
    "classifiers = get_classifiers_pipeline(scaler = MinMaxScaler())#returns all the classifier pipeline with MinMaxScaler\n",
    "display_hyper = False\n",
    "save_model = True\n",
    "category = 'OrgFe' #Original Features\n",
    "baseline_models = get_classifier_score(x_train, y_train, classifiers, display_hyper, save_model, category)"
   ]
  },
  {
   "cell_type": "markdown",
   "id": "0bddfa9c",
   "metadata": {},
   "source": [
    "#### Kaggle Score(Public and Private Score)\n",
    "<img src='https://i.imgur.com/9DA8cxz.png' width=800 height=600 />"
   ]
  },
  {
   "cell_type": "code",
   "execution_count": 32,
   "id": "a2c43fdc",
   "metadata": {},
   "outputs": [
    {
     "name": "stderr",
     "output_type": "stream",
     "text": [
      "100%|████████████████████████████████████████████████████████████████████████████████████| 8/8 [08:26<00:00, 63.30s/it]\n"
     ]
    },
    {
     "name": "stdout",
     "output_type": "stream",
     "text": [
      "Example File Name:  saved_models/OrgFe_StandardScaler_KNeighborsClassifier_8.sav\n",
      "+-----+------------------------+--------------------+\n",
      "| No. |       Classifier       |    CV AUC Score    |\n",
      "+-----+------------------------+--------------------+\n",
      "|  1  |   LogisticRegression   | 0.836111111111111  |\n",
      "|  2  |     XGBClassifier      | 0.7927083333333333 |\n",
      "|  3  |          SVC           | 0.7541666666666667 |\n",
      "|  4  | RandomForestClassifier |      0.753125      |\n",
      "|  5  |       GaussianNB       | 0.7416666666666667 |\n",
      "|  6  |   StackingClassifier   | 0.6815972222222222 |\n",
      "|  7  | DecisionTreeClassifier | 0.6802083333333333 |\n",
      "|  8  |  KNeighborsClassifier  | 0.6204861111111111 |\n",
      "+-----+------------------------+--------------------+\n"
     ]
    }
   ],
   "source": [
    "#StandardScaler\n",
    "classifiers = get_classifiers_pipeline(scaler = StandardScaler())#returns all the classifier pipeline with StandardScaler\n",
    "display_hyper = False\n",
    "save_model = True\n",
    "category = 'OrgFe' #Original Features\n",
    "baseline_models = get_classifier_score(x_train, y_train, classifiers, display_hyper, save_model, category)"
   ]
  },
  {
   "cell_type": "markdown",
   "id": "9d1c6930",
   "metadata": {},
   "source": [
    "#### Kaggle Score(Public and Private Score)\n",
    "<img src='https://i.imgur.com/syJs71h.png' width=800 height=600 />"
   ]
  },
  {
   "cell_type": "markdown",
   "id": "54a25a3e",
   "metadata": {},
   "source": [
    "### Top 100 correlated Engineered Feature Models + MinMaxScaler"
   ]
  },
  {
   "cell_type": "code",
   "execution_count": 34,
   "id": "f42536d9",
   "metadata": {},
   "outputs": [
    {
     "name": "stderr",
     "output_type": "stream",
     "text": [
      "100%|████████████████████████████████████████████████████████████████████████████████████| 8/8 [06:31<00:00, 48.99s/it]\n"
     ]
    },
    {
     "name": "stdout",
     "output_type": "stream",
     "text": [
      "Example File Name:  saved_models/EngFe100_Cor_MinMaxScaler_GaussianNB_8.sav\n",
      "+-----+------------------------+--------------------+\n",
      "| No. |       Classifier       |    CV AUC Score    |\n",
      "+-----+------------------------+--------------------+\n",
      "|  1  |   LogisticRegression   | 0.9118055555555555 |\n",
      "|  2  |          SVC           | 0.8854166666666666 |\n",
      "|  3  |     XGBClassifier      |      0.884375      |\n",
      "|  4  | RandomForestClassifier | 0.8788194444444445 |\n",
      "|  5  |  KNeighborsClassifier  | 0.8668402777777777 |\n",
      "|  6  | DecisionTreeClassifier | 0.8647569444444445 |\n",
      "|  7  |   StackingClassifier   | 0.8461805555555555 |\n",
      "|  8  |       GaussianNB       | 0.8369791666666666 |\n",
      "+-----+------------------------+--------------------+\n"
     ]
    }
   ],
   "source": [
    "top = 100\n",
    "top_features = feature_imp['abs_correlation'].sort_values(ascending = False)[:top]\n",
    "x_train_fe_1 = feature_engineering_perm(x_train, top_features)\n",
    "\n",
    "classifiers = get_classifiers_pipeline(scaler = MinMaxScaler()) #returns all the classifier pipeline with MinMaxScaler\n",
    "display_hyper = False\n",
    "save_model = True\n",
    "category = 'EngFe100_Cor'\n",
    "baseline_models = get_classifier_score(x_train_fe_1, y_train, classifiers, display_hyper, save_model, category)"
   ]
  },
  {
   "cell_type": "markdown",
   "id": "e2544d31",
   "metadata": {},
   "source": [
    "#### Kaggle Score(Public and Private Score)\n",
    "<img src='https://i.imgur.com/pZwCoQP.png' width=800 height=600 />"
   ]
  },
  {
   "cell_type": "markdown",
   "id": "7f787b17",
   "metadata": {},
   "source": [
    "### Top 100 correlated Engineered Feature Models + MinMaxScaler + ADASYN"
   ]
  },
  {
   "cell_type": "code",
   "execution_count": 35,
   "id": "0e22c566",
   "metadata": {},
   "outputs": [
    {
     "name": "stderr",
     "output_type": "stream",
     "text": [
      "100%|████████████████████████████████████████████████████████████████████████████████████| 8/8 [07:30<00:00, 56.33s/it]\n"
     ]
    },
    {
     "name": "stdout",
     "output_type": "stream",
     "text": [
      "Example File Name:  saved_models/EngFe100_Cor_ADASYN_MinMaxScaler_GaussianNB_8.sav\n",
      "+-----+------------------------+--------------------+\n",
      "| No. |       Classifier       |    CV AUC Score    |\n",
      "+-----+------------------------+--------------------+\n",
      "|  1  |   LogisticRegression   |      0.915625      |\n",
      "|  2  |     XGBClassifier      | 0.8927083333333334 |\n",
      "|  3  |          SVC           | 0.888888888888889  |\n",
      "|  4  | RandomForestClassifier | 0.8822916666666666 |\n",
      "|  5  | DecisionTreeClassifier | 0.8737847222222221 |\n",
      "|  6  |   StackingClassifier   | 0.8696180555555555 |\n",
      "|  7  |  KNeighborsClassifier  |      0.85625       |\n",
      "|  8  |       GaussianNB       | 0.8401041666666668 |\n",
      "+-----+------------------------+--------------------+\n"
     ]
    }
   ],
   "source": [
    "top = 100\n",
    "top_features = feature_imp['abs_correlation'].sort_values(ascending = False)[:top]\n",
    "x_train_fe_1 = feature_engineering_perm(x_train, top_features)\n",
    "\n",
    "classifiers = get_classifiers_pipeline(scaler = MinMaxScaler(), sampler = ADASYN()) #returns all the classifier pipeline with MinMaxScaler, ADASYN\n",
    "display_hyper = False\n",
    "save_model = True\n",
    "category = 'EngFe100_Cor'\n",
    "baseline_models = get_classifier_score(x_train_fe_1, y_train, classifiers, display_hyper, save_model, category)"
   ]
  },
  {
   "cell_type": "markdown",
   "id": "2cefb617",
   "metadata": {},
   "source": [
    "#### Kaggle Score(Public and Private Score)\n",
    "<img src='https://i.imgur.com/tDshmui.png' width=800 height=600 />"
   ]
  },
  {
   "cell_type": "markdown",
   "id": "9c17e5de",
   "metadata": {},
   "source": [
    "### Best Model\n",
    "#### Kaggle Score(Public and Private Score)\n",
    "<img src='https://i.imgur.com/vdApsyp.png' width=800 height=600 />\n",
    "\n",
    "<br>\n",
    "<br>\n",
    "<br>\n",
    "Private leader board - Top 21%<br>\n",
    "Public leader board - Top 46%"
   ]
  }
 ],
 "metadata": {
  "kernelspec": {
   "display_name": "Python 3",
   "language": "python",
   "name": "python3"
  },
  "language_info": {
   "codemirror_mode": {
    "name": "ipython",
    "version": 3
   },
   "file_extension": ".py",
   "mimetype": "text/x-python",
   "name": "python",
   "nbconvert_exporter": "python",
   "pygments_lexer": "ipython3",
   "version": "3.6.5"
  }
 },
 "nbformat": 4,
 "nbformat_minor": 5
}
