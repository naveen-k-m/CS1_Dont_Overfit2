{
 "cells": [
  {
   "cell_type": "markdown",
   "id": "e579d524",
   "metadata": {},
   "source": [
    "### Importing Libraries"
   ]
  },
  {
   "cell_type": "code",
   "execution_count": 1,
   "id": "bf156e6a",
   "metadata": {},
   "outputs": [],
   "source": [
    "import warnings\n",
    "warnings.filterwarnings('ignore')\n",
    "import pandas as pd\n",
    "import operator\n",
    "import numpy as np\n",
    "import regex as re\n",
    "import joblib\n",
    "import os\n",
    "import copy\n",
    "\n",
    "from tqdm import tqdm"
   ]
  },
  {
   "cell_type": "markdown",
   "id": "6f2a423e",
   "metadata": {},
   "source": [
    "### Declaring methods"
   ]
  },
  {
   "cell_type": "code",
   "execution_count": 2,
   "id": "53063e9d",
   "metadata": {},
   "outputs": [],
   "source": [
    "def feature_engineering_perm(data, fe_imp):\n",
    "    '''\n",
    "    This method is used to engineer new features(+, -, *, /, cos, cosh, sin , sinh, exp of existing features) from the given\n",
    "    list of feature transformations and the dataset.\n",
    "    \n",
    "    ----------------------\n",
    "    Parameter\n",
    "    data    : The input dataset.\n",
    "    \n",
    "    fe_imp  : A pandas series containing the top important feature combinations of arithmetic and trignometric\n",
    "              operations.\n",
    "              \n",
    "    ----------------------                       \n",
    "    Returns\n",
    "    data_fe : A pandas DataFrame containing dataset with only the given transformed features.\n",
    "    '''\n",
    "        \n",
    "    data_fe = pd.DataFrame()\n",
    "    #defining a dict of operation name and the operations\n",
    "    op_dict = {'+': operator.add, '-': operator.sub, '*': operator.mul, '/': operator.truediv,\n",
    "              'cos': np.cos, 'sin': np.sin, 'cosh': np.cosh, 'sinh': np.sinh, 'exp': np.exp}\n",
    "    \n",
    "    for i in fe_imp.index:\n",
    "        oper = ''.join(re.findall('[^0-9_]', i)) #extracting the arith or trig operation from the name of col.Eg:12+32 or cos_21\n",
    "        if(not oper):\n",
    "            data_fe[i] = data[i].copy() #if there is no operation involved then the same feature is taken as it is.\n",
    "        else:\n",
    "            op = op_dict[oper]\n",
    "            if('_' in i): #checking if the operation is trig\n",
    "                cols = i.split(oper+'_') #splitting based on the '_' Eg: cos_12 -> cos, 12\n",
    "                data_fe[i] = op(data[cols[1]]) #appying the trig operation\n",
    "            else: \n",
    "                cols = i.split(oper) #splitting based on the operation Eg: 12+13 -> splitting on '+' -> 12,13\n",
    "                data_fe[i] = op(data[cols[0]], data[cols[1]]) #applying the arth operation\n",
    "                \n",
    "        if(data_fe[i].isin([np.inf, -np.inf, np.nan]).any()):\n",
    "            data_fe[i].replace([np.inf, -np.inf], np.nan, inplace=True) #replaces the inf, -inf to nan(coz mean of r.v with inf is nan)\n",
    "            data_fe[i].replace(np.nan, data_fe[i].mean(), inplace=True) # replaces nan with mean val\n",
    "        \n",
    "\n",
    "    return data_fe"
   ]
  },
  {
   "cell_type": "code",
   "execution_count": 3,
   "id": "76e6a1ec",
   "metadata": {},
   "outputs": [],
   "source": [
    "def save_test_pred(model_name, feature_imp, test):\n",
    "    '''\n",
    "    This method saves the predicted probabilities of the test dataset on the given model.\n",
    "    \n",
    "    ----------------------\n",
    "    Parameter\n",
    "    \n",
    "    model_name  : The name of the model saved to run the test dataset with.\n",
    "    \n",
    "    feature_imp : Pandas DataFrame containing the engineered features and thier corresponding importance.\n",
    "    \n",
    "    test        : Test dataset.\n",
    "    \n",
    "    \n",
    "    ----------------------              \n",
    "    Returns\n",
    "    None \n",
    "    '''\n",
    "        \n",
    "    print('Model: ', model_name)\n",
    "    path = 'saved_models/'\n",
    "    ouptut_path = 'submission/csv/'\n",
    "    if not os.path.isdir(ouptut_path):\n",
    "        os.mkdir(ouptut_path)\n",
    "    \n",
    "    \n",
    "    feat_select = {\n",
    "        'Chi': 'chi2_score',\n",
    "        'Cor': 'abs_correlation',\n",
    "        'Hmean': 'harmonic_mean'\n",
    "    }\n",
    "    \n",
    "    file_path = path + model_name\n",
    "    clf = joblib.load(file_path)\n",
    "    \n",
    "    output_file = model_name.split('.')[0]+'.csv'\n",
    "    model_type, fi_method = output_file.split('_')[:2]\n",
    "    \n",
    "    #checking how many features are used in training the model from the model name(defalut is 300)\n",
    "    top = 300 if not re.findall('\\d+', model_type) else int(re.sub('[^0-9]', '', model_type))\n",
    "    \n",
    "    if('EngFe' in  model_type): #if the model used Engineered features then the features are engineered for the test data\n",
    "        method = feat_select[fi_method]\n",
    "        top_features = feature_imp[method].sort_values(ascending=False)[: top]\n",
    "        test_fe = feature_engineering_perm(test, top_features)\n",
    "    else:\n",
    "        \n",
    "        test_fe = test\n",
    "    \n",
    "   \n",
    "    pred = clf.predict_proba(test_fe)[:,1] #predicting the probability of data point belonging to class 1.\n",
    "    \n",
    "    sub = pd.DataFrame(zip(list(range(250, len(pred)+250)), pred), columns  = ['id', 'target'])\n",
    "    sub.to_csv(ouptut_path+output_file, index = False)  #saving the result"
   ]
  },
  {
   "cell_type": "code",
   "execution_count": 4,
   "id": "df648038",
   "metadata": {},
   "outputs": [],
   "source": [
    "def saveAll_test_pred(feature_imp, test, cat = ''):\n",
    "    '''\n",
    "    This method saves the predicted probabilities of the test dataset on all the saved models.\n",
    "    \n",
    "    ----------------------\n",
    "    Parameter\n",
    "    \n",
    "    feature_imp : Pandas DataFrame containing the engineered features and thier corresponding importance.\n",
    "    \n",
    "    test        : Test dataset.\n",
    "    \n",
    "    cat         : The Category of the saved model.\n",
    "    \n",
    "    \n",
    "    ----------------------              \n",
    "    Returns\n",
    "    None \n",
    "    '''\n",
    "        \n",
    "    path = 'saved_models/'\n",
    "    csv_path = 'submission/'\n",
    "    models = sorted(os.listdir(path), key= lambda x: os.path.getmtime(os.path.join(path, x))) #files sorted by time\n",
    "    \n",
    "    models = [i for i in models if (cat in i)] #taking only the file that belongs to the given category\n",
    "    \n",
    "    \n",
    "    for model_name in tqdm(models):\n",
    "        file_path = path + model_name\n",
    "        clf = joblib.load(file_path)\n",
    "\n",
    "        feat_select = {\n",
    "            'Chi': 'chi2_score',\n",
    "            'Cor': 'abs_correlation',\n",
    "            'Hmean': 'harmonic_mean'\n",
    "        }\n",
    "\n",
    "\n",
    "        output_file = model_name.split('.')[0]+'.csv'\n",
    "        model_type, fi_method = output_file.split('_')[:2]\n",
    "        #print(output_file)\n",
    "        #checking how many features are used in training the model from the model name(defalut is 300)\n",
    "        top = 300 if not re.findall('\\d+', model_type) else int(re.sub('[^0-9]', '', model_type))\n",
    "\n",
    "        if('EngFe' in  model_type):#if the model used Engineered features then the features are engineered for the test data\n",
    "            method = feat_select[fi_method]\n",
    "            top_features = feature_imp[method].sort_values(ascending=False)[: top]\n",
    "            test_fe = feature_engineering_perm(test, top_features)\n",
    "            \n",
    "        elif(('OrgFe' in model_type) and (top != 300)):\n",
    "            #print('got')\n",
    "            method = feat_select[fi_method]\n",
    "            original_col = [i for i in feature_imp.index if not ''.join(re.findall('[^0-9_]', i))]\n",
    "            top_features = feature_imp.loc[original_col][method].sort_values(ascending = False)[:top]\n",
    "            test_fe = test.loc[:,top_features.index].copy()#getting only the imp columns\n",
    "            \n",
    "        else:\n",
    "\n",
    "            test_fe = test.copy()\n",
    "        #print(test_fe.columns)\n",
    "        pred = clf.predict_proba(test_fe)[:,1]#predicting the probability of data point belonging to class 1.\n",
    "\n",
    "        sub = pd.DataFrame(zip(list(range(250, len(pred)+250)), pred), columns  = ['id', 'target'])\n",
    "        sub.to_csv(csv_path+output_file, index = False)#saving the result"
   ]
  },
  {
   "cell_type": "code",
   "execution_count": 5,
   "id": "2f8244e3",
   "metadata": {},
   "outputs": [],
   "source": [
    "def submit_csv_kaggle(cat = '', top = 1, msg = '',submit = False):\n",
    "    '''\n",
    "    This method saves the predicted probabilities of the test dataset on all the saved models.\n",
    "    \n",
    "    ----------------------\n",
    "    Parameter\n",
    "    \n",
    "    cat   : The Category of the saved model.\n",
    "    \n",
    "    top   : Rank upto which we have to submit the test data predictions.\n",
    "    \n",
    "    msg   :Custom message when submitting the test data.\n",
    "    \n",
    "    submit: A flag to enable or disable submit functionality.\n",
    "    \n",
    "    \n",
    "    ----------------------              \n",
    "    Returns\n",
    "    count: The no of files submitted to kaggle. \n",
    "    '''\n",
    "    count = 0\n",
    "    dir_name = 'submission/' \n",
    "    csv_files = sorted(os.listdir(dir_name), key= lambda x: os.path.getmtime(os.path.join(dir_name, x)))\n",
    "    \n",
    "    #filtering the files with the given rank and the category\n",
    "    csv_files = [i for i in csv_files if ((cat in i) and int(i.split('_')[-1][0]) in list(range(1, top+1)))]\n",
    "    \n",
    "    for csv_file in tqdm(csv_files):\n",
    "        count += 1\n",
    "        cmd_msg = msg + ' '+ csv_file.split('.')[0] if msg else csv_file.split('.')[0]\n",
    "        cmd = f'kaggle competitions submit -c dont-overfit-ii -f {dir_name+csv_file} -m \"{cmd_msg}\"'\n",
    "        if(submit):\n",
    "            status_code = os.system(cmd) #runs the cmd and submits the csv to kaggle\n",
    "        else:\n",
    "            status_code = 0\n",
    "            print(csv_file)\n",
    "        if(status_code):\n",
    "            print('Following cmd failed:\\n', cmd)\n",
    "            count-= 1\n",
    "        \n",
    "    return count"
   ]
  },
  {
   "cell_type": "markdown",
   "id": "bb0a4f1f",
   "metadata": {},
   "source": [
    "### Importing Data"
   ]
  },
  {
   "cell_type": "code",
   "execution_count": 6,
   "id": "03ca630b",
   "metadata": {},
   "outputs": [],
   "source": [
    "feature_imp = pd.read_csv('dont-overfit-ii/processed_data/feature_importance.csv', index_col = 'Unnamed: 0')\n",
    "test = pd.read_csv('dont-overfit-ii/test.csv').drop(['id'], axis=1)"
   ]
  },
  {
   "cell_type": "markdown",
   "id": "42b5e5e0",
   "metadata": {},
   "source": [
    "### Predicting the target value and submitting it to kaggle"
   ]
  },
  {
   "cell_type": "code",
   "execution_count": null,
   "id": "6c8f6b15",
   "metadata": {},
   "outputs": [],
   "source": [
    "#predicts the target value for the given model and saves it in csv file\n",
    "model_name = 'EngFe50_Hmean_1_LogisticRegression.sav'\n",
    "save_test_pred(model_name, feature_imp, test)"
   ]
  },
  {
   "cell_type": "code",
   "execution_count": 48,
   "id": "1075959c",
   "metadata": {},
   "outputs": [
    {
     "name": "stderr",
     "output_type": "stream",
     "text": [
      "100%|████████████████████████████████████████████████████████████████████████████████████| 8/8 [00:06<00:00,  1.30it/s]\n"
     ]
    }
   ],
   "source": [
    "#predicts the target value for the all models in the given category and saves it in csv file\n",
    "saveAll_test_pred(feature_imp, test, cat = 'OrgFerkf_MinMaxScaler')"
   ]
  },
  {
   "cell_type": "code",
   "execution_count": 11,
   "id": "1a68ce85",
   "metadata": {},
   "outputs": [
    {
     "name": "stderr",
     "output_type": "stream",
     "text": [
      "100%|██████████████████████████████████████████████████████████████████████████████████| 1/1 [00:00<00:00, 1007.76it/s]"
     ]
    },
    {
     "name": "stdout",
     "output_type": "stream",
     "text": [
      "EngFe100_Cor_LogisticRegression_1.csv\n"
     ]
    },
    {
     "name": "stderr",
     "output_type": "stream",
     "text": [
      "\n"
     ]
    },
    {
     "data": {
      "text/plain": [
       "1"
      ]
     },
     "execution_count": 11,
     "metadata": {},
     "output_type": "execute_result"
    }
   ],
   "source": [
    "#submits the csv file to kaggle\n",
    "submit_csv_kaggle(cat = 'EngFe100_Cor_LogisticRegression_1', top = 3, msg = '',submit = False)"
   ]
  },
  {
   "cell_type": "code",
   "execution_count": null,
   "id": "6fb49a02",
   "metadata": {},
   "outputs": [],
   "source": []
  }
 ],
 "metadata": {
  "kernelspec": {
   "display_name": "Python 3",
   "language": "python",
   "name": "python3"
  },
  "language_info": {
   "codemirror_mode": {
    "name": "ipython",
    "version": 3
   },
   "file_extension": ".py",
   "mimetype": "text/x-python",
   "name": "python",
   "nbconvert_exporter": "python",
   "pygments_lexer": "ipython3",
   "version": "3.6.5"
  }
 },
 "nbformat": 4,
 "nbformat_minor": 5
}
